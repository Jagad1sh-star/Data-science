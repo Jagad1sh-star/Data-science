{
 "cells": [
  {
   "cell_type": "raw",
   "id": "53ad6a52",
   "metadata": {},
   "source": [
    "Statistical inference is the process of analyzing sample data to gain insight into the population from which the data \n",
    "was collected and to investigate differences between data samples. In data analysis, we are often interested in the \n",
    "characteristics of some large population, but collecting data on the entire population may be infeasible. \n",
    "For example, leading up to U.S. presidential elections it could be very useful to know the political leanings \n",
    "of every single eligible voter, but surveying every voter is not feasible. Instead, we could poll some subset of \n",
    "the population, such as a thousand registered voters, and use that data to make inferences about the population as a whole.\n",
    "\n",
    "Point Estimates\n",
    "Point estimates are estimates of population parameters based on sample data. For instance, \n",
    "if we wanted to know the average age of registered voters in the U.S., we could take a survey of registered \n",
    "voters and then use the average age of the respondents as a point estimate of the average age of the population \n",
    "as a whole. The average of a sample is known as the sample mean.\n",
    "\n",
    "The sample mean is usually not exactly the same as the population mean.\n",
    "This difference can be caused by many factors including poor survey design, biased sampling\n",
    "methods and the randomness inherent to drawing a sample from a population. \n",
    "Let's investigate point estimates by generating a population of random age data and then drawing a \n",
    "sample from it to estimate the mean:"
   ]
  },
  {
   "cell_type": "code",
   "execution_count": 1,
   "id": "321be37b",
   "metadata": {},
   "outputs": [],
   "source": [
    "%matplotlib inline\n",
    "import numpy as np\n",
    "import pandas as pd\n",
    "import scipy.stats as stats\n",
    "import matplotlib.pyplot as plt\n",
    "import random\n",
    "import math"
   ]
  },
  {
   "cell_type": "markdown",
   "id": "200f58e4",
   "metadata": {},
   "source": [
    "# population age data"
   ]
  },
  {
   "cell_type": "code",
   "execution_count": 4,
   "id": "affcad07",
   "metadata": {
    "collapsed": true
   },
   "outputs": [
    {
     "name": "stdout",
     "output_type": "stream",
     "text": [
      "[58 55 53 ... 27 28 28]\n",
      "mu:  43.002372 \n",
      "Std:  13.229146547438953\n"
     ]
    }
   ],
   "source": [
    "np.random.seed(10)\n",
    "population_ages1 = stats.poisson.rvs(loc=18, mu=35, size=150000)\n",
    "population_ages2 = stats.poisson.rvs(loc=18, mu=10, size=100000)\n",
    "population_ages = np.concatenate((population_ages1, population_ages2))\n",
    "print(population_ages)\n",
    "print('mu: ', population_ages.mean(),'\\nStd: ',population_ages.std())"
   ]
  },
  {
   "cell_type": "code",
   "execution_count": null,
   "id": "08928558",
   "metadata": {},
   "outputs": [],
   "source": [
    "#choice -- > choosing randome data from given a given dataset"
   ]
  },
  {
   "cell_type": "code",
   "execution_count": 6,
   "id": "8c4a3eaf",
   "metadata": {
    "collapsed": true
   },
   "outputs": [
    {
     "name": "stdout",
     "output_type": "stream",
     "text": [
      "mu:  43.002372\n",
      "X_bar: 42.92404\n",
      "0.07833200000000318\n"
     ]
    }
   ],
   "source": [
    "np.random.seed(6)\n",
    "sample_ages = np.random.choice(a= population_ages,size=50000) # Sample 1000 values\n",
    "print('mu: ', population_ages.mean())\n",
    "print ('X_bar:',sample_ages.mean())                         # Show sample mean\n",
    "print(population_ages.mean() - sample_ages.mean())  # Check difference between means"
   ]
  },
  {
   "cell_type": "code",
   "execution_count": null,
   "id": "d88b145a",
   "metadata": {},
   "outputs": [],
   "source": [
    "Our point estimate based on a sample of 500 individuals underestimates the true population mean by 0.6 years, \n",
    "but it is close.\n",
    "This illustrates an important point: we can get a fairly accurate estimate of a large population by sampling a \n",
    "relatively small subset of individuals."
   ]
  },
  {
   "cell_type": "code",
   "execution_count": null,
   "id": "70418853",
   "metadata": {},
   "outputs": [],
   "source": [
    "Another point estimate that may be of interest is the proportion of the population that belongs to some \n",
    "category or subgroup. \n",
    "\n",
    "For example, we might like to know the race of each voter we poll, to get a sense of\n",
    "the overall demographics of the voter base. You can make a point estimate of this sort of proportion by taking \n",
    "a sample and then checking the ratio in the sample:"
   ]
  },
  {
   "cell_type": "code",
   "execution_count": 7,
   "id": "a4064d1a",
   "metadata": {
    "collapsed": true
   },
   "outputs": [
    {
     "name": "stdout",
     "output_type": "stream",
     "text": [
      "250000\n",
      "asian proportion estimate:\n",
      "0.104\n",
      "white proportion estimate:\n",
      "0.368\n",
      "black proportion estimate:\n",
      "0.24\n",
      "other proportion estimate:\n",
      "0.104\n",
      "hispanic proportion estimate:\n",
      "0.184\n"
     ]
    }
   ],
   "source": [
    "random.seed(10)\n",
    "population_races = ([\"white\"]*100000) + ([\"black\"]*50000) +\\\n",
    "                   ([\"hispanic\"]*50000) + ([\"asian\"]*25000) +\\\n",
    "                   ([\"other\"]*25000)\n",
    "print(len(population_races))\n",
    "demo_sample = random.sample(population_races, 500)   # Sample 1000 values\n",
    "\n",
    "for race in set(demo_sample):\n",
    "    print( race + \" proportion estimate:\" )\n",
    "    print( demo_sample.count(race)/500 )"
   ]
  },
  {
   "cell_type": "code",
   "execution_count": 8,
   "id": "dd394117",
   "metadata": {},
   "outputs": [
    {
     "data": {
      "text/plain": [
       "1.0"
      ]
     },
     "execution_count": 8,
     "metadata": {},
     "output_type": "execute_result"
    }
   ],
   "source": [
    "0.104+0.184+0.24+0.368+0.104"
   ]
  },
  {
   "cell_type": "markdown",
   "id": "2c9826ab",
   "metadata": {},
   "source": [
    "Notice that the proportion estimates are close to the true underlying population proportions."
   ]
  },
  {
   "cell_type": "code",
   "execution_count": null,
   "id": "e633442e",
   "metadata": {},
   "outputs": [],
   "source": []
  },
  {
   "cell_type": "markdown",
   "id": "bb8fef33",
   "metadata": {},
   "source": [
    "Sampling Distributions and The Central Limit Theorem\n",
    "Many statistical procedures assume that data follows a normal distribution, \n",
    "because the normal distribution has nice properties like symmetricity and having the\n",
    "majority of the data clustered within a few standard deviations of the mean. \n",
    "Unfortunately, real world data is often not normally distributed and the distribution of a \n",
    "sample tends to mirror the distribution of the population. This means a sample taken from a\n",
    "population with a skewed distribution will also tend to be skewed. \n",
    "\n",
    "Let's investigate by plotting the data and sample we created earlier and by checking the skew"
   ]
  },
  {
   "cell_type": "code",
   "execution_count": 18,
   "id": "1142b580",
   "metadata": {
    "collapsed": true
   },
   "outputs": [
    {
     "name": "stdout",
     "output_type": "stream",
     "text": [
      "-0.12008483603917186\n"
     ]
    },
    {
     "data": {
      "image/png": "[encoded data removed]",
      "text/plain": [
       "<Figure size 900x900 with 1 Axes>"
      ]
     },
     "metadata": {},
     "output_type": "display_data"
    }
   ],
   "source": [
    "pd.DataFrame(population_ages).hist(bins=58,\n",
    "                                  range=(17.5,75.5),\n",
    "                                  figsize=(9,9))\n",
    "\n",
    "print(stats.skew(population_ages));"
   ]
  },
  {
   "cell_type": "code",
   "execution_count": 12,
   "id": "3a44f68d",
   "metadata": {},
   "outputs": [
    {
     "data": {
      "text/plain": [
       "array([23, 53, 52, ..., 62, 25, 57], dtype=int64)"
      ]
     },
     "execution_count": 12,
     "metadata": {},
     "output_type": "execute_result"
    }
   ],
   "source": [
    "sample_ages"
   ]
  },
  {
   "cell_type": "code",
   "execution_count": null,
   "id": "e5639509",
   "metadata": {},
   "outputs": [],
   "source": [
    "The distribution has low skewness, but the plot reveals the data is clearly not normal: \n",
    "instead of one symmetric bell curve, it has as bimodal distribution with two high density peaks. \n",
    "The sample we drew from this population should have roughly the same shape and skew:"
   ]
  },
  {
   "cell_type": "code",
   "execution_count": 21,
   "id": "578e09c8",
   "metadata": {
    "collapsed": true
   },
   "outputs": [
    {
     "name": "stdout",
     "output_type": "stream",
     "text": [
      "-0.11319889715538725\n"
     ]
    },
    {
     "data": {
      "image/png": "[encoded data removed]",
      "text/plain": [
       "<Figure size 600x600 with 1 Axes>"
      ]
     },
     "metadata": {},
     "output_type": "display_data"
    }
   ],
   "source": [
    "pd.DataFrame(sample_ages).hist(bins=58,\n",
    "                                  range=(17.5,75.5),\n",
    "                                  figsize=(6,6));\n",
    "\n",
    "print( stats.skew(sample_ages) )"
   ]
  },
  {
   "cell_type": "markdown",
   "id": "3ffafd27",
   "metadata": {},
   "source": [
    "The sample has roughly the same shape as the underlying population. \n",
    "This suggests that we can't apply techniques that assume a normal distribution to this data set, \n",
    "since it is not normal. In reality, we can, thanks the central limit theorem.\n",
    "\n",
    "The central limit theorem is one of the most important results of probability theory and serves as\n",
    "the foundation of many methods of statistical analysis. At a high level,\n",
    "the theorem states the distribution of many sample means, known as a sampling distribution, will be normally distributed. \n",
    "This rule holds even if the underlying distribution itself is not normally distributed. \n",
    "As a result we can treat the sample mean as if it were drawn normal distribution.\n",
    "\n",
    "To illustrate, let's create a sampling distribution by taking 200 samples from our population and \n",
    "then making 200 point estimates of the mean:"
   ]
  },
  {
   "cell_type": "code",
   "execution_count": 22,
   "id": "a5656ff8",
   "metadata": {
    "collapsed": true
   },
   "outputs": [
    {
     "name": "stdout",
     "output_type": "stream",
     "text": [
      "[42.378, 42.668, 42.938, 43.178, 43.374, 41.956, 42.47, 42.562, 43.576, 43.414, 42.692, 43.48, 43.566, 42.874, 43.822, 42.156, 42.392, 43.05, 42.356, 42.056, 43.644, 43.728, 42.836, 42.486, 42.704, 43.636, 42.588, 42.162, 42.344, 43.166, 43.214, 42.97, 43.428, 41.944, 41.98, 42.824, 42.316, 43.74, 42.426, 42.624, 43.49, 43.468, 42.88, 43.078, 42.14, 43.74, 42.69, 43.568, 43.05, 43.416, 42.724, 42.68, 42.426, 43.82, 43.346, 43.37, 42.902, 42.856, 42.898, 42.972, 44.338, 43.5, 43.356, 42.768, 42.842, 42.58, 43.398, 42.56, 43.76, 43.626, 43.242, 42.62, 43.89, 42.994, 43.008, 42.76, 44.31, 42.884, 42.304, 43.56, 43.054, 43.112, 43.182, 42.182, 44.082, 42.488, 43.428, 43.482, 43.422, 43.26, 42.582, 44.03, 43.856, 41.554, 43.324, 44.61, 43.078, 43.878, 42.204, 44.702, 44.296, 42.49, 43.056, 43.984, 44.046, 42.542, 43.18, 42.458, 42.69, 43.52, 42.534, 43.076, 42.562, 43.232, 43.128, 42.828, 43.062, 43.196, 43.29, 43.244, 44.15, 43.236, 42.602, 43.088, 42.826, 42.386, 43.0, 43.45, 42.918, 42.896, 42.588, 43.448, 42.118, 43.102, 43.354, 42.198, 43.67, 43.13, 43.192, 43.716, 41.978, 43.224, 42.744, 42.834, 43.544, 43.724, 42.956, 42.776, 42.996, 42.784, 43.812, 42.826, 42.468, 42.562, 43.524, 42.544, 43.774, 43.68, 42.7, 42.346, 42.816, 43.514, 43.866, 43.3, 44.09, 43.592, 44.0, 42.648, 43.208, 42.49, 44.232, 43.508, 43.972, 43.156, 43.22, 42.63, 43.79, 43.474, 42.822, 42.39, 42.576, 42.338, 43.34, 43.11, 43.48, 43.842, 42.702, 43.664, 42.936, 43.248, 43.516, 43.086, 42.69, 42.844, 42.89, 43.248, 43.642, 43.954, 42.862, 42.35]\n"
     ]
    }
   ],
   "source": [
    "np.random.seed(10)\n",
    "\n",
    "point_estimates = []         # Make empty list to hold point estimates\n",
    "\n",
    "for x in range(200):         # Generate 200 samples\n",
    "    sample = np.random.choice(a= population_ages, size=500)\n",
    "    point_estimates.append(sample.mean() )\n",
    "    \n",
    "print(point_estimates) "
   ]
  },
  {
   "cell_type": "code",
   "execution_count": 23,
   "id": "72894f6f",
   "metadata": {},
   "outputs": [
    {
     "data": {
      "text/plain": [
       "200"
      ]
     },
     "execution_count": 23,
     "metadata": {},
     "output_type": "execute_result"
    }
   ],
   "source": [
    "len(point_estimates)"
   ]
  },
  {
   "cell_type": "code",
   "execution_count": 24,
   "id": "cd160890",
   "metadata": {
    "collapsed": true
   },
   "outputs": [
    {
     "data": {
      "image/png": "[encoded data removed]",
      "text/plain": [
       "<Figure size 600x600 with 1 Axes>"
      ]
     },
     "metadata": {},
     "output_type": "display_data"
    }
   ],
   "source": [
    " # Density plot for sample means.\n",
    "pd.DataFrame(point_estimates).plot(kind=\"density\",figsize=(6,6), xlim=(41,45));                               "
   ]
  },
  {
   "cell_type": "markdown",
   "id": "a6bfa0a1",
   "metadata": {},
   "source": [
    "The sampling distribution appears to be roughly normal, \n",
    "despite the bimodal population distribution that the samples were drawn from. \n",
    "In addition, the mean of the sampling distribution approaches the true population mean:"
   ]
  },
  {
   "cell_type": "code",
   "execution_count": 10,
   "id": "f511bbbf",
   "metadata": {},
   "outputs": [
    {
     "data": {
      "text/plain": [
       "-0.08440799999999626"
      ]
     },
     "execution_count": 10,
     "metadata": {},
     "output_type": "execute_result"
    }
   ],
   "source": [
    "population_ages.mean() - np.array(point_estimates).mean()"
   ]
  },
  {
   "cell_type": "code",
   "execution_count": null,
   "id": "fb7c409b",
   "metadata": {},
   "outputs": [],
   "source": [
    "The more samples we take, the better our estimate of the population parameter is likely to be."
   ]
  },
  {
   "cell_type": "markdown",
   "id": "3ec37816",
   "metadata": {},
   "source": [
    "Confidence Intervals\n",
    "A point estimate can give you a rough idea of a population parameter like the mean, but estimates are prone to error and taking multiple samples to get improved estimates may not be feasible. A confidence interval is a range of values above and below a point estimate that captures the true population parameter at some predetermined confidence level. For example, if you want to have a 95% chance of capturing the true population parameter with a point estimate and a corresponding confidence interval, you'd set your confidence level to 95%. Higher confidence levels result in a wider confidence intervals.\n",
    "\n",
    "Calculate a confidence interval by taking a point estimate and then adding and subtracting a margin of error to create a range. Margin of error is based on your desired confidence level, the spread of the data and the size of your sample. The way you calculate the margin of error depends on whether you know the standard deviation of the population or not.\n",
    "\n",
    "If you know the standard deviation of the population, the margin of error is equal to:\n",
    "\n",
    "z∗σ/√n\n",
    "\n",
    "Where σ (sigma) is the population standard deviation, n is sample size, and z is a number known as the z-critical value. The z-critical value is the number of standard deviations you'd have to go from the mean of the normal distribution to capture the proportion of the data associated with the desired confidence level. For instance, we know that roughly 95% of the data in a normal distribution lies within 2 standard deviations of the mean, so we could use 2 as the z-critical value for a 95% confidence interval (although it is more exact to get z-critical values with stats.norm.ppf().).\n",
    "\n",
    "Let's calculate a 95% confidence for our mean point estimate:"
   ]
  },
  {
   "cell_type": "code",
   "execution_count": 26,
   "id": "6cde90d8",
   "metadata": {
    "collapsed": true
   },
   "outputs": [
    {
     "name": "stdout",
     "output_type": "stream",
     "text": [
      "population mean estimate: 43.002372\n",
      "sample_mean 42.523\n",
      "z-critical value: 0.8389129404891691\n",
      "\n",
      "Confidence interval: (42.17204719246939, 42.873952807530614)\n",
      "\n"
     ]
    }
   ],
   "source": [
    "np.random.seed(10)\n",
    "print(\"population mean estimate:\",population_ages.mean())\n",
    "sample_size = 1000\n",
    "sample = np.random.choice(a= population_ages, size = sample_size)\n",
    "sample_mean = sample.mean()\n",
    "print('sample_mean',sample_mean)\n",
    "\n",
    "z_critical = stats.norm.cdf(x = 0.99)  # Get the z-critical value*\n",
    "\n",
    "print(\"z-critical value:\",z_critical)              # Check the z-critical value\n",
    "print()                        \n",
    "\n",
    "pop_stdev = population_ages.std()  # Get the population standard deviation\n",
    "\n",
    "margin_of_error = z_critical * (pop_stdev/math.sqrt(sample_size))\n",
    "\n",
    "confidence_interval = (sample_mean - margin_of_error,\n",
    "                       sample_mean + margin_of_error)  \n",
    "\n",
    "print(\"Confidence interval:\",confidence_interval)\n",
    "print()"
   ]
  },
  {
   "cell_type": "markdown",
   "id": "615672e8",
   "metadata": {},
   "source": [
    "Note: We use stats.norm.ppf(q = 0.975) to get the desired z-critical value instead of q = 0.95 \n",
    "because the distribution has two tails.\n",
    "\n",
    "Notice that the confidence interval we calculated captures the true population mean of 43.0023.\n",
    "\n",
    "Let's create several confidence intervals and plot them to get a better sense of what it means to \"capture\" the true mean:"
   ]
  },
  {
   "cell_type": "code",
   "execution_count": 27,
   "id": "c113447f",
   "metadata": {},
   "outputs": [],
   "source": [
    "np.random.seed(12)\n",
    "\n",
    "sample_size = 1000\n",
    "\n",
    "CI_intervals = []\n",
    "sample_means = []\n",
    "\n",
    "for sample in range(25):\n",
    "    sample = np.random.choice(a= population_ages, size = sample_size)\n",
    "    sample_mean = round(sample.mean(),2)\n",
    "    sample_means.append(sample_mean)\n",
    "\n",
    "    z_critical = stats.norm.ppf(q = 0.025)  # Get the z-critical value*         \n",
    "\n",
    "    pop_stdev = population_ages.std()  # Get the population standard deviation\n",
    "\n",
    "#     stats.norm.ppf(q = 0.025)\n",
    "\n",
    "    margin_of_error = z_critical * (pop_stdev/math.sqrt(sample_size))\n",
    "\n",
    "    confidence_interval = (round(sample_mean - margin_of_error,2),\n",
    "                           round(sample_mean + margin_of_error,2))  \n",
    "    \n",
    "    CI_intervals.append(confidence_interval)\n"
   ]
  },
  {
   "cell_type": "code",
   "execution_count": 28,
   "id": "11bc6963",
   "metadata": {},
   "outputs": [],
   "source": [
    "sample_mean_CI = pd.DataFrame({'CI_intervals':CI_intervals,'Sample_mean':sample_means})"
   ]
  },
  {
   "cell_type": "code",
   "execution_count": 22,
   "id": "f52dccd9",
   "metadata": {
    "collapsed": true
   },
   "outputs": [
    {
     "name": "stdout",
     "output_type": "stream",
     "text": [
      "      CI_intervals  Sample_mean\n",
      "0   (44.08, 42.44)        43.26\n",
      "1    (44.0, 42.36)        43.18\n",
      "2   (44.33, 42.69)        43.51\n",
      "3   (43.76, 42.12)        42.94\n",
      "4   (43.48, 41.84)        42.66\n",
      "5   (44.38, 42.74)        43.56\n",
      "6   (43.78, 42.14)        42.96\n",
      "7    (43.4, 41.76)        42.58\n",
      "8   (43.17, 41.53)        42.35\n",
      "9   (44.18, 42.54)        43.36\n",
      "10  (44.22, 42.58)        43.40\n",
      "11  (44.13, 42.49)        43.31\n",
      "12  (43.37, 41.73)        42.55\n",
      "13  (43.98, 42.34)        43.16\n",
      "14  (44.28, 42.64)        43.46\n",
      "15  (43.78, 42.14)        42.96\n",
      "16   (43.44, 41.8)        42.62\n",
      "17  (43.87, 42.23)        43.05\n",
      "18  (43.89, 42.25)        43.07\n",
      "19  (43.73, 42.09)        42.91\n",
      "20  (43.33, 41.69)        42.51\n",
      "21  (43.73, 42.09)        42.91\n",
      "22   (45.04, 43.4)        44.22\n",
      "23   (43.6, 41.96)        42.78\n",
      "24  (44.07, 42.43)        43.25\n"
     ]
    }
   ],
   "source": [
    "print(sample_mean_CI)"
   ]
  },
  {
   "cell_type": "code",
   "execution_count": 29,
   "id": "c101bd6e",
   "metadata": {
    "collapsed": true
   },
   "outputs": [
    {
     "data": {
      "text/plain": [
       "<Axes: ylabel='Density'>"
      ]
     },
     "execution_count": 29,
     "metadata": {},
     "output_type": "execute_result"
    },
    {
     "data": {
      "image/png": "[encoded data removed]",
      "text/plain": [
       "<Figure size 640x480 with 1 Axes>"
      ]
     },
     "metadata": {},
     "output_type": "display_data"
    }
   ],
   "source": [
    "sample_mean_CI['Sample_mean'].plot(kind = 'density')"
   ]
  },
  {
   "cell_type": "markdown",
   "id": "e6d8b4f6",
   "metadata": {},
   "source": [
    "Notice that in the plot above, all but one of the 95% confidence intervals overlap the red line marking the true mean. \n",
    "This is to be expected: since a 95% confidence interval captures the true mean 95% of the time, we'd expect our interval to miss the true mean 5% of the time."
   ]
  },
  {
   "cell_type": "markdown",
   "id": "5b7296d6",
   "metadata": {},
   "source": [
    "If you don't know the standard deviation of the population, you have to use the standard deviation of your sample as a stand in when creating confidence intervals. Since the sample standard deviation may not match the population parameter the interval will have more error when you don't know the population standard deviation. To account for this error, we use what's known as a t-critical value instead of the z-critical value. The t-critical value is drawn from what's known as a t-distribution--a distribution that closely resembles the normal distribution but that gets wider and wider as the sample size falls. The t-distribution is available in scipy.stats with the nickname \"t\" so we can get t-critical values with stats.t.ppf().\n",
    "\n",
    "Let's take a new, smaller sample and then create a confidence interval without the population standard deviation, using the t-distribution:"
   ]
  },
  {
   "cell_type": "code",
   "execution_count": 30,
   "id": "fe1149b4",
   "metadata": {},
   "outputs": [
    {
     "name": "stdout",
     "output_type": "stream",
     "text": [
      "42.88\n",
      "t-critical value: 2.0638985616280205\n",
      "\n",
      "Confidence interval: (37.65147508161371, 48.108524918386294)\n",
      "\n"
     ]
    }
   ],
   "source": [
    "np.random.seed(10)\n",
    "\n",
    "sample_size = 25\n",
    "sample = np.random.choice(a= population_ages, size = sample_size)\n",
    "sample_mean = sample.mean()\n",
    "print(sample_mean)\n",
    "\n",
    "t_critical = stats.t.ppf(q = 0.975, df=24)  # Get the t-critical value*\n",
    "\n",
    "print(\"t-critical value:\",t_critical)                  # Check the t-critical value\n",
    "print()                        \n",
    "\n",
    "sample_stdev = sample.std(ddof=1)    # Get the sample standard deviation\n",
    "\n",
    "sigma = sample_stdev/math.sqrt(sample_size)  # Standard deviation estimate\n",
    "margin_of_error = t_critical * sigma\n",
    "\n",
    "confidence_interval = (sample_mean - margin_of_error,\n",
    "                       sample_mean + margin_of_error)  \n",
    "\n",
    "print(\"Confidence interval:\",confidence_interval)\n",
    "print()\n"
   ]
  },
  {
   "cell_type": "markdown",
   "id": "a101156a",
   "metadata": {},
   "source": [
    "Note: when using the t-distribution, you have to supply the degrees of freedom (df). For this type of test, the degrees of freedom is equal to the sample size minus 1. If you have a large sample size, the t-distribution approaches the normal distribution.\n",
    "\n",
    "Notice that the t-critical value is larger than the z-critical value we used for 95% confidence interval. This allows the confidence interval to cast a larger net to make up for the variability caused by using the sample standard deviation in place of the population standard deviation. The end result is a much wider confidence interval (an interval with a larger margin of error.)."
   ]
  },
  {
   "cell_type": "code",
   "execution_count": null,
   "id": "3ea8ccbb",
   "metadata": {},
   "outputs": [],
   "source": [
    "If you have a large sample, the t-critical value will approach the z-critical value so there is little difference between using the normal distribution vs. the t-distribution:"
   ]
  },
  {
   "cell_type": "code",
   "execution_count": 31,
   "id": "f20d10e4",
   "metadata": {},
   "outputs": [
    {
     "data": {
      "text/plain": [
       "0.0023774765933946007"
      ]
     },
     "execution_count": 31,
     "metadata": {},
     "output_type": "execute_result"
    }
   ],
   "source": [
    "# Check the difference between critical values with a sample size of 1000\n",
    "             \n",
    "stats.t.ppf(q=0.975, df= 999) - stats.norm.ppf(0.975) "
   ]
  },
  {
   "cell_type": "code",
   "execution_count": null,
   "id": "169828bf",
   "metadata": {},
   "outputs": [],
   "source": [
    "Instead of calculating a confidence interval for a mean point estimate by hand, you can calculate it using the Python function stats.t.interval():"
   ]
  },
  {
   "cell_type": "code",
   "execution_count": 31,
   "id": "c1f8d802",
   "metadata": {},
   "outputs": [
    {
     "data": {
      "text/plain": [
       "(37.65147508161371, 48.108524918386294)"
      ]
     },
     "execution_count": 31,
     "metadata": {},
     "output_type": "execute_result"
    }
   ],
   "source": [
    "sample_mean = sample.mean()\n",
    "\n",
    "sample_stdev = sample.std(ddof=1)            # Get the sample standard deviation\n",
    "sigma = sample_stdev/math.sqrt(sample_size)\n",
    "\n",
    "stats.t.interval(confidence = 0.95,         # Confidence level\n",
    "                 df= 24,                    # Degrees of freedom\n",
    "                 loc = sample_mean,         # Sample mean\n",
    "                 scale = sigma)             # Standard deviation estimate"
   ]
  },
  {
   "cell_type": "markdown",
   "id": "e3cd3cf6",
   "metadata": {},
   "source": [
    "We can also make a confidence interval for a point estimate of a population proportion. In this case, the margin of error equals:\n",
    "\n",
    "z∗√p(1−p)/n\n",
    " \n",
    "Where z is the z-critical value for our confidence level, p is the point estimate of the population proportion and n is the sample size. Let's calculate a 95% confidence interval for Hispanics according to the sample proportion we calculated earlier (0.192):"
   ]
  },
  {
   "cell_type": "code",
   "execution_count": 30,
   "id": "90f6cfa8",
   "metadata": {},
   "outputs": [
    {
     "data": {
      "text/plain": [
       "(0.16758794241348748, 0.21641205758651252)"
      ]
     },
     "execution_count": 30,
     "metadata": {},
     "output_type": "execute_result"
    }
   ],
   "source": [
    "z_critical = stats.norm.ppf(0.975)      # Record z-critical value\n",
    "\n",
    "p = 0.192                               # Point estimate of proportion\n",
    "n = 1000                                # Sample size\n",
    "\n",
    "margin_of_error = z_critical * math.sqrt((p*(1-p))/n)\n",
    "\n",
    "confidence_interval = (p - margin_of_error,  # Calculate the the interval\n",
    "                       p + margin_of_error) \n",
    "\n",
    "confidence_interval"
   ]
  },
  {
   "cell_type": "code",
   "execution_count": null,
   "id": "58915ff3",
   "metadata": {},
   "outputs": [],
   "source": [
    "The output shows that the confidence interval captured the true population parameter of 0.2. Similar to our population mean point estimates, we can use the scipy stats.distribution.interval() function to calculate a confidence interval for a population proportion for us. In this case were working with z-critical values so we want to work with \n",
    "the normal distribution instead of the t distribution:"
   ]
  },
  {
   "cell_type": "code",
   "execution_count": 32,
   "id": "1b2533dc",
   "metadata": {},
   "outputs": [
    {
     "data": {
      "text/plain": [
       "(0.15991711797397207, 0.22408288202602794)"
      ]
     },
     "execution_count": 32,
     "metadata": {},
     "output_type": "execute_result"
    }
   ],
   "source": [
    "stats.norm.interval(confidence = 0.99,              # Confidence level             \n",
    "                   loc =  0.192,                    # Point estimate of proportion\n",
    "                   scale = math.sqrt((p*(1-p))/n))  # Scaling factor"
   ]
  },
  {
   "cell_type": "code",
   "execution_count": null,
   "id": "ed162103",
   "metadata": {},
   "outputs": [],
   "source": []
  }
 ],
 "metadata": {
  "kernelspec": {
   "display_name": "Python 3 (ipykernel)",
   "language": "python",
   "name": "python3"
  },
  "language_info": {
   "codemirror_mode": {
    "name": "ipython",
    "version": 3
   },
   "file_extension": ".py",
   "mimetype": "text/x-python",
   "name": "python",
   "nbconvert_exporter": "python",
   "pygments_lexer": "ipython3",
   "version": "3.11.5"
  }
 },
 "nbformat": 4,
 "nbformat_minor": 5
}
