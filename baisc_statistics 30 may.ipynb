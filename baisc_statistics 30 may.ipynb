{
 "cells": [
  {
   "cell_type": "code",
   "execution_count": 1,
   "id": "8e2fde88",
   "metadata": {},
   "outputs": [],
   "source": [
    "import pandas as pd"
   ]
  },
  {
   "cell_type": "code",
   "execution_count": 2,
   "id": "145710df",
   "metadata": {
    "collapsed": true,
    "jupyter": {
     "outputs_hidden": true
    }
   },
   "outputs": [
    {
     "data": {
      "text/html": [
       "<div>\n",
       "<style scoped>\n",
       "    .dataframe tbody tr th:only-of-type {\n",
       "        vertical-align: middle;\n",
       "    }\n",
       "\n",
       "    .dataframe tbody tr th {\n",
       "        vertical-align: top;\n",
       "    }\n",
       "\n",
       "    .dataframe thead th {\n",
       "        text-align: right;\n",
       "    }\n",
       "</style>\n",
       "<table border=\"1\" class=\"dataframe\">\n",
       "  <thead>\n",
       "    <tr style=\"text-align: right;\">\n",
       "      <th></th>\n",
       "      <th>rank</th>\n",
       "      <th>discipline</th>\n",
       "      <th>phd</th>\n",
       "      <th>service</th>\n",
       "      <th>sex</th>\n",
       "      <th>salary</th>\n",
       "    </tr>\n",
       "  </thead>\n",
       "  <tbody>\n",
       "    <tr>\n",
       "      <th>0</th>\n",
       "      <td>Prof</td>\n",
       "      <td>A</td>\n",
       "      <td>51</td>\n",
       "      <td>51</td>\n",
       "      <td>Male</td>\n",
       "      <td>57800</td>\n",
       "    </tr>\n",
       "    <tr>\n",
       "      <th>1</th>\n",
       "      <td>AssocProf</td>\n",
       "      <td>A</td>\n",
       "      <td>25</td>\n",
       "      <td>22</td>\n",
       "      <td>Female</td>\n",
       "      <td>62884</td>\n",
       "    </tr>\n",
       "    <tr>\n",
       "      <th>2</th>\n",
       "      <td>AsstProf</td>\n",
       "      <td>A</td>\n",
       "      <td>7</td>\n",
       "      <td>6</td>\n",
       "      <td>Female</td>\n",
       "      <td>63100</td>\n",
       "    </tr>\n",
       "    <tr>\n",
       "      <th>3</th>\n",
       "      <td>AssocProf</td>\n",
       "      <td>B</td>\n",
       "      <td>12</td>\n",
       "      <td>9</td>\n",
       "      <td>Female</td>\n",
       "      <td>71065</td>\n",
       "    </tr>\n",
       "    <tr>\n",
       "      <th>4</th>\n",
       "      <td>AsstProf</td>\n",
       "      <td>A</td>\n",
       "      <td>2</td>\n",
       "      <td>0</td>\n",
       "      <td>Female</td>\n",
       "      <td>72500</td>\n",
       "    </tr>\n",
       "    <tr>\n",
       "      <th>...</th>\n",
       "      <td>...</td>\n",
       "      <td>...</td>\n",
       "      <td>...</td>\n",
       "      <td>...</td>\n",
       "      <td>...</td>\n",
       "      <td>...</td>\n",
       "    </tr>\n",
       "    <tr>\n",
       "      <th>73</th>\n",
       "      <td>Prof</td>\n",
       "      <td>B</td>\n",
       "      <td>22</td>\n",
       "      <td>21</td>\n",
       "      <td>Male</td>\n",
       "      <td>155750</td>\n",
       "    </tr>\n",
       "    <tr>\n",
       "      <th>74</th>\n",
       "      <td>Prof</td>\n",
       "      <td>A</td>\n",
       "      <td>45</td>\n",
       "      <td>43</td>\n",
       "      <td>Male</td>\n",
       "      <td>155865</td>\n",
       "    </tr>\n",
       "    <tr>\n",
       "      <th>75</th>\n",
       "      <td>Prof</td>\n",
       "      <td>B</td>\n",
       "      <td>24</td>\n",
       "      <td>15</td>\n",
       "      <td>Female</td>\n",
       "      <td>161101</td>\n",
       "    </tr>\n",
       "    <tr>\n",
       "      <th>76</th>\n",
       "      <td>Prof</td>\n",
       "      <td>B</td>\n",
       "      <td>35</td>\n",
       "      <td>33</td>\n",
       "      <td>Male</td>\n",
       "      <td>162200</td>\n",
       "    </tr>\n",
       "    <tr>\n",
       "      <th>77</th>\n",
       "      <td>Prof</td>\n",
       "      <td>B</td>\n",
       "      <td>56</td>\n",
       "      <td>49</td>\n",
       "      <td>Male</td>\n",
       "      <td>186960</td>\n",
       "    </tr>\n",
       "  </tbody>\n",
       "</table>\n",
       "<p>78 rows × 6 columns</p>\n",
       "</div>"
      ],
      "text/plain": [
       "         rank discipline  phd  service     sex  salary\n",
       "0        Prof          A   51       51    Male   57800\n",
       "1   AssocProf          A   25       22  Female   62884\n",
       "2    AsstProf          A    7        6  Female   63100\n",
       "3   AssocProf          B   12        9  Female   71065\n",
       "4    AsstProf          A    2        0  Female   72500\n",
       "..        ...        ...  ...      ...     ...     ...\n",
       "73       Prof          B   22       21    Male  155750\n",
       "74       Prof          A   45       43    Male  155865\n",
       "75       Prof          B   24       15  Female  161101\n",
       "76       Prof          B   35       33    Male  162200\n",
       "77       Prof          B   56       49    Male  186960\n",
       "\n",
       "[78 rows x 6 columns]"
      ]
     },
     "execution_count": 2,
     "metadata": {},
     "output_type": "execute_result"
    }
   ],
   "source": [
    "# read/ loading file a using pandas \n",
    "salaries = pd.read_csv(r\"D:\\DS-Batch1\\DS dataset\\Salaries.csv\")\n",
    "salaries"
   ]
  },
  {
   "cell_type": "code",
   "execution_count": 3,
   "id": "182a1aac",
   "metadata": {},
   "outputs": [
    {
     "data": {
      "text/plain": [
       "pandas.core.frame.DataFrame"
      ]
     },
     "execution_count": 3,
     "metadata": {},
     "output_type": "execute_result"
    }
   ],
   "source": [
    "# first and last five rows of data\n",
    "type(salaries)"
   ]
  },
  {
   "cell_type": "code",
   "execution_count": 6,
   "id": "51fe9321",
   "metadata": {},
   "outputs": [
    {
     "data": {
      "text/html": [
       "<div>\n",
       "<style scoped>\n",
       "    .dataframe tbody tr th:only-of-type {\n",
       "        vertical-align: middle;\n",
       "    }\n",
       "\n",
       "    .dataframe tbody tr th {\n",
       "        vertical-align: top;\n",
       "    }\n",
       "\n",
       "    .dataframe thead th {\n",
       "        text-align: right;\n",
       "    }\n",
       "</style>\n",
       "<table border=\"1\" class=\"dataframe\">\n",
       "  <thead>\n",
       "    <tr style=\"text-align: right;\">\n",
       "      <th></th>\n",
       "      <th>rank</th>\n",
       "      <th>discipline</th>\n",
       "      <th>phd</th>\n",
       "      <th>service</th>\n",
       "      <th>sex</th>\n",
       "      <th>salary</th>\n",
       "    </tr>\n",
       "  </thead>\n",
       "  <tbody>\n",
       "    <tr>\n",
       "      <th>0</th>\n",
       "      <td>Prof</td>\n",
       "      <td>A</td>\n",
       "      <td>51</td>\n",
       "      <td>51</td>\n",
       "      <td>Male</td>\n",
       "      <td>57800</td>\n",
       "    </tr>\n",
       "  </tbody>\n",
       "</table>\n",
       "</div>"
      ],
      "text/plain": [
       "   rank discipline  phd  service   sex  salary\n",
       "0  Prof          A   51       51  Male   57800"
      ]
     },
     "execution_count": 6,
     "metadata": {},
     "output_type": "execute_result"
    }
   ],
   "source": [
    "salaries.head(1) # 1st five rows of the data"
   ]
  },
  {
   "cell_type": "code",
   "execution_count": 9,
   "id": "411e4a63",
   "metadata": {},
   "outputs": [
    {
     "data": {
      "text/html": [
       "<div>\n",
       "<style scoped>\n",
       "    .dataframe tbody tr th:only-of-type {\n",
       "        vertical-align: middle;\n",
       "    }\n",
       "\n",
       "    .dataframe tbody tr th {\n",
       "        vertical-align: top;\n",
       "    }\n",
       "\n",
       "    .dataframe thead th {\n",
       "        text-align: right;\n",
       "    }\n",
       "</style>\n",
       "<table border=\"1\" class=\"dataframe\">\n",
       "  <thead>\n",
       "    <tr style=\"text-align: right;\">\n",
       "      <th></th>\n",
       "      <th>rank</th>\n",
       "      <th>discipline</th>\n",
       "      <th>phd</th>\n",
       "      <th>service</th>\n",
       "      <th>sex</th>\n",
       "      <th>salary</th>\n",
       "    </tr>\n",
       "  </thead>\n",
       "  <tbody>\n",
       "    <tr>\n",
       "      <th>77</th>\n",
       "      <td>Prof</td>\n",
       "      <td>B</td>\n",
       "      <td>56</td>\n",
       "      <td>49</td>\n",
       "      <td>Male</td>\n",
       "      <td>186960</td>\n",
       "    </tr>\n",
       "  </tbody>\n",
       "</table>\n",
       "</div>"
      ],
      "text/plain": [
       "    rank discipline  phd  service   sex  salary\n",
       "77  Prof          B   56       49  Male  186960"
      ]
     },
     "execution_count": 9,
     "metadata": {},
     "output_type": "execute_result"
    }
   ],
   "source": [
    "salaries.tail(1) # last five rows of data"
   ]
  },
  {
   "cell_type": "code",
   "execution_count": 10,
   "id": "a78c3f9e",
   "metadata": {},
   "outputs": [
    {
     "data": {
      "text/plain": [
       "(78, 6)"
      ]
     },
     "execution_count": 10,
     "metadata": {},
     "output_type": "execute_result"
    }
   ],
   "source": [
    "# size and shape of the data\n",
    "salaries.shape"
   ]
  },
  {
   "cell_type": "code",
   "execution_count": 11,
   "id": "e95cecf3",
   "metadata": {},
   "outputs": [
    {
     "data": {
      "text/plain": [
       "Index(['rank', 'discipline', 'phd', 'service', 'sex', 'salary'], dtype='object')"
      ]
     },
     "execution_count": 11,
     "metadata": {},
     "output_type": "execute_result"
    }
   ],
   "source": [
    "# information about the columns\n",
    "salaries.columns"
   ]
  },
  {
   "cell_type": "code",
   "execution_count": 12,
   "id": "5ee2b72d",
   "metadata": {
    "collapsed": true,
    "jupyter": {
     "outputs_hidden": true
    }
   },
   "outputs": [
    {
     "data": {
      "text/plain": [
       "array([['Prof', 'A', 51, 51, 'Male', 57800],\n",
       "       ['AssocProf', 'A', 25, 22, 'Female', 62884],\n",
       "       ['AsstProf', 'A', 7, 6, 'Female', 63100],\n",
       "       ['AssocProf', 'B', 12, 9, 'Female', 71065],\n",
       "       ['AsstProf', 'A', 2, 0, 'Female', 72500],\n",
       "       ['AsstProf', 'A', 3, 1, 'Female', 72500],\n",
       "       ['AsstProf', 'A', 4, 2, 'Male', 73000],\n",
       "       ['AssocProf', 'A', 26, 24, 'Female', 73300],\n",
       "       ['AsstProf', 'A', 5, 3, 'Female', 73500],\n",
       "       ['AsstProf', 'B', 11, 3, 'Female', 74692],\n",
       "       ['AssocProf', 'A', 13, 8, 'Female', 74830],\n",
       "       ['AsstProf', 'B', 8, 3, 'Male', 75044],\n",
       "       ['AsstProf', 'B', 5, 0, 'Female', 77000],\n",
       "       ['AssocProf', 'A', 10, 8, 'Female', 77500],\n",
       "       ['AsstProf', 'A', 4, 2, 'Female', 77500],\n",
       "       ['AsstProf', 'A', 8, 3, 'Female', 78500],\n",
       "       ['AsstProf', 'B', 4, 2, 'Female', 80225],\n",
       "       ['AssocProf', 'A', 20, 17, 'Male', 81285],\n",
       "       ['AsstProf', 'A', 2, 0, 'Male', 85000],\n",
       "       ['AsstProf', 'B', 1, 0, 'Male', 88000],\n",
       "       ['Prof', 'A', 17, 11, 'Female', 90450],\n",
       "       ['AsstProf', 'B', 4, 3, 'Male', 91000],\n",
       "       ['Prof', 'A', 29, 27, 'Female', 91000],\n",
       "       ['Prof', 'A', 30, 23, 'Male', 91100],\n",
       "       ['AsstProf', 'B', 7, 2, 'Male', 91300],\n",
       "       ['AsstProf', 'B', 4, 0, 'Male', 92000],\n",
       "       ['AsstProf', 'B', 4, 4, 'Male', 92000],\n",
       "       ['AsstProf', 'B', 3, 3, 'Female', 92000],\n",
       "       ['Prof', 'A', 12, 6, 'Male', 93000],\n",
       "       ['Prof', 'A', 29, 19, 'Male', 94350],\n",
       "       ['AsstProf', 'B', 10, 5, 'Female', 97032],\n",
       "       ['Prof', 'B', 35, 31, 'Male', 99418],\n",
       "       ['Prof', 'A', 20, 8, 'Male', 102000],\n",
       "       ['Prof', 'A', 33, 30, 'Male', 103106],\n",
       "       ['Prof', 'A', 27, 19, 'Male', 103275],\n",
       "       ['AssocProf', 'B', 11, 11, 'Female', 103613],\n",
       "       ['AssocProf', 'B', 13, 10, 'Female', 103750],\n",
       "       ['AssocProf', 'B', 12, 10, 'Female', 103994],\n",
       "       ['AssocProf', 'B', 19, 6, 'Female', 104542],\n",
       "       ['Prof', 'B', 20, 18, 'Male', 104800],\n",
       "       ['Prof', 'A', 12, 0, 'Female', 105000],\n",
       "       ['Prof', 'B', 18, 10, 'Female', 105450],\n",
       "       ['AssocProf', 'B', 9, 7, 'Male', 107008],\n",
       "       ['Prof', 'A', 19, 7, 'Male', 107300],\n",
       "       ['Prof', 'A', 23, 15, 'Female', 109646],\n",
       "       ['AssocProf', 'B', 14, 7, 'Female', 109650],\n",
       "       ['Prof', 'A', 28, 14, 'Female', 109954],\n",
       "       ['Prof', 'A', 23, 20, 'Male', 110515],\n",
       "       ['Prof', 'B', 17, 17, 'Female', 111512],\n",
       "       ['Prof', 'A', 28, 7, 'Female', 116450],\n",
       "       ['Prof', 'A', 36, 19, 'Female', 117555],\n",
       "       ['AssocProf', 'B', 12, 8, 'Male', 119800],\n",
       "       ['Prof', 'B', 18, 18, 'Male', 120000],\n",
       "       ['Prof', 'A', 20, 20, 'Male', 122400],\n",
       "       ['Prof', 'B', 17, 18, 'Female', 122960],\n",
       "       ['Prof', 'B', 21, 20, 'Male', 123683],\n",
       "       ['Prof', 'B', 17, 17, 'Female', 124312],\n",
       "       ['Prof', 'A', 18, 18, 'Male', 126300],\n",
       "       ['Prof', 'B', 28, 23, 'Male', 126933],\n",
       "       ['Prof', 'B', 20, 14, 'Female', 127512],\n",
       "       ['Prof', 'B', 39, 33, 'Male', 128250],\n",
       "       ['Prof', 'B', 18, 18, 'Female', 129000],\n",
       "       ['Prof', 'A', 40, 31, 'Male', 131205],\n",
       "       ['Prof', 'B', 23, 23, 'Male', 134778],\n",
       "       ['Prof', 'A', 39, 36, 'Female', 137000],\n",
       "       ['Prof', 'B', 25, 25, 'Female', 140096],\n",
       "       ['Prof', 'B', 36, 26, 'Female', 144651],\n",
       "       ['Prof', 'B', 45, 45, 'Male', 146856],\n",
       "       ['Prof', 'A', 38, 19, 'Male', 148750],\n",
       "       ['Prof', 'B', 17, 3, 'Male', 150480],\n",
       "       ['Prof', 'A', 29, 27, 'Male', 150500],\n",
       "       ['Prof', 'B', 23, 19, 'Female', 151768],\n",
       "       ['Prof', 'B', 25, 19, 'Male', 153750],\n",
       "       ['Prof', 'B', 22, 21, 'Male', 155750],\n",
       "       ['Prof', 'A', 45, 43, 'Male', 155865],\n",
       "       ['Prof', 'B', 24, 15, 'Female', 161101],\n",
       "       ['Prof', 'B', 35, 33, 'Male', 162200],\n",
       "       ['Prof', 'B', 56, 49, 'Male', 186960]], dtype=object)"
      ]
     },
     "execution_count": 12,
     "metadata": {},
     "output_type": "execute_result"
    }
   ],
   "source": [
    "# information abput the values\n",
    "salaries.values"
   ]
  },
  {
   "cell_type": "code",
   "execution_count": 16,
   "id": "c7ab953f",
   "metadata": {
    "collapsed": true,
    "jupyter": {
     "outputs_hidden": true
    }
   },
   "outputs": [
    {
     "data": {
      "text/plain": [
       "rank\n",
       "Prof         46\n",
       "AsstProf     19\n",
       "AssocProf    13\n",
       "Name: count, dtype: int64"
      ]
     },
     "execution_count": 16,
     "metadata": {},
     "output_type": "execute_result"
    }
   ],
   "source": [
    "# unique values in the data\n",
    "salaries['rank'].value_counts()"
   ]
  },
  {
   "cell_type": "code",
   "execution_count": 17,
   "id": "7dbe80df",
   "metadata": {
    "collapsed": true,
    "jupyter": {
     "outputs_hidden": true
    }
   },
   "outputs": [
    {
     "data": {
      "text/plain": [
       "sex\n",
       "Male      39\n",
       "Female    39\n",
       "Name: count, dtype: int64"
      ]
     },
     "execution_count": 17,
     "metadata": {},
     "output_type": "execute_result"
    }
   ],
   "source": [
    "salaries['sex'].value_counts()"
   ]
  },
  {
   "cell_type": "code",
   "execution_count": 18,
   "id": "7da07eb3",
   "metadata": {
    "collapsed": true,
    "jupyter": {
     "outputs_hidden": true
    }
   },
   "outputs": [
    {
     "data": {
      "text/plain": [
       "rank          object\n",
       "discipline    object\n",
       "phd            int64\n",
       "service        int64\n",
       "sex           object\n",
       "salary         int64\n",
       "dtype: object"
      ]
     },
     "execution_count": 18,
     "metadata": {},
     "output_type": "execute_result"
    }
   ],
   "source": [
    "# checking for data types of columns\n",
    "salaries.dtypes"
   ]
  },
  {
   "cell_type": "code",
   "execution_count": 20,
   "id": "e9cf6dc8",
   "metadata": {
    "collapsed": true,
    "jupyter": {
     "outputs_hidden": true
    }
   },
   "outputs": [
    {
     "name": "stdout",
     "output_type": "stream",
     "text": [
      "0     51\n",
      "1     25\n",
      "2      7\n",
      "3     12\n",
      "4      2\n",
      "      ..\n",
      "73    22\n",
      "74    45\n",
      "75    24\n",
      "76    35\n",
      "77    56\n",
      "Name: phd, Length: 78, dtype: int64\n"
     ]
    }
   ],
   "source": [
    "# extracting a single column\n",
    "phd = salaries['phd']\n",
    "print(phd)"
   ]
  },
  {
   "cell_type": "code",
   "execution_count": 21,
   "id": "69573359",
   "metadata": {},
   "outputs": [
    {
     "data": {
      "text/plain": [
       "pandas.core.series.Series"
      ]
     },
     "execution_count": 21,
     "metadata": {},
     "output_type": "execute_result"
    }
   ],
   "source": [
    "type(phd)"
   ]
  },
  {
   "cell_type": "code",
   "execution_count": 22,
   "id": "0a150773",
   "metadata": {},
   "outputs": [
    {
     "name": "stdout",
     "output_type": "stream",
     "text": [
      "19.705128205128204\n"
     ]
    }
   ],
   "source": [
    "# summary statistics\n",
    "phd_mean = phd.mean()\n",
    "print(phd_mean)"
   ]
  },
  {
   "cell_type": "code",
   "execution_count": 23,
   "id": "5a741bb6",
   "metadata": {},
   "outputs": [
    {
     "name": "stdout",
     "output_type": "stream",
     "text": [
      "18.5\n"
     ]
    }
   ],
   "source": [
    "phd_median = phd.median()\n",
    "print(phd_median)"
   ]
  },
  {
   "cell_type": "code",
   "execution_count": 24,
   "id": "b76e14b5",
   "metadata": {},
   "outputs": [
    {
     "name": "stdout",
     "output_type": "stream",
     "text": [
      "0    4\n",
      "Name: phd, dtype: int64\n"
     ]
    }
   ],
   "source": [
    "phd_mode = phd.mode()\n",
    "print(phd_mode)"
   ]
  },
  {
   "cell_type": "code",
   "execution_count": 25,
   "id": "2aa5535d",
   "metadata": {},
   "outputs": [
    {
     "data": {
      "text/html": [
       "<div>\n",
       "<style scoped>\n",
       "    .dataframe tbody tr th:only-of-type {\n",
       "        vertical-align: middle;\n",
       "    }\n",
       "\n",
       "    .dataframe tbody tr th {\n",
       "        vertical-align: top;\n",
       "    }\n",
       "\n",
       "    .dataframe thead th {\n",
       "        text-align: right;\n",
       "    }\n",
       "</style>\n",
       "<table border=\"1\" class=\"dataframe\">\n",
       "  <thead>\n",
       "    <tr style=\"text-align: right;\">\n",
       "      <th></th>\n",
       "      <th>phd</th>\n",
       "      <th>service</th>\n",
       "      <th>salary</th>\n",
       "    </tr>\n",
       "  </thead>\n",
       "  <tbody>\n",
       "    <tr>\n",
       "      <th>count</th>\n",
       "      <td>78.000000</td>\n",
       "      <td>78.000000</td>\n",
       "      <td>78.000000</td>\n",
       "    </tr>\n",
       "    <tr>\n",
       "      <th>mean</th>\n",
       "      <td>19.705128</td>\n",
       "      <td>15.051282</td>\n",
       "      <td>108023.782051</td>\n",
       "    </tr>\n",
       "    <tr>\n",
       "      <th>std</th>\n",
       "      <td>12.498425</td>\n",
       "      <td>12.139768</td>\n",
       "      <td>28293.661022</td>\n",
       "    </tr>\n",
       "    <tr>\n",
       "      <th>min</th>\n",
       "      <td>1.000000</td>\n",
       "      <td>0.000000</td>\n",
       "      <td>57800.000000</td>\n",
       "    </tr>\n",
       "    <tr>\n",
       "      <th>25%</th>\n",
       "      <td>10.250000</td>\n",
       "      <td>5.250000</td>\n",
       "      <td>88612.500000</td>\n",
       "    </tr>\n",
       "    <tr>\n",
       "      <th>50%</th>\n",
       "      <td>18.500000</td>\n",
       "      <td>14.500000</td>\n",
       "      <td>104671.000000</td>\n",
       "    </tr>\n",
       "    <tr>\n",
       "      <th>75%</th>\n",
       "      <td>27.750000</td>\n",
       "      <td>20.750000</td>\n",
       "      <td>126774.750000</td>\n",
       "    </tr>\n",
       "    <tr>\n",
       "      <th>max</th>\n",
       "      <td>56.000000</td>\n",
       "      <td>51.000000</td>\n",
       "      <td>186960.000000</td>\n",
       "    </tr>\n",
       "  </tbody>\n",
       "</table>\n",
       "</div>"
      ],
      "text/plain": [
       "             phd    service         salary\n",
       "count  78.000000  78.000000      78.000000\n",
       "mean   19.705128  15.051282  108023.782051\n",
       "std    12.498425  12.139768   28293.661022\n",
       "min     1.000000   0.000000   57800.000000\n",
       "25%    10.250000   5.250000   88612.500000\n",
       "50%    18.500000  14.500000  104671.000000\n",
       "75%    27.750000  20.750000  126774.750000\n",
       "max    56.000000  51.000000  186960.000000"
      ]
     },
     "execution_count": 25,
     "metadata": {},
     "output_type": "execute_result"
    }
   ],
   "source": [
    "# overall summary statistics\n",
    "salaries.describe()"
   ]
  },
  {
   "cell_type": "code",
   "execution_count": null,
   "id": "77efed8f",
   "metadata": {},
   "outputs": [],
   "source": [
    "3,3.5,9.5,9.6"
   ]
  },
  {
   "cell_type": "code",
   "execution_count": 38,
   "id": "f260cda0",
   "metadata": {},
   "outputs": [],
   "source": [
    "hieght1 = pd.Series([5.2,5.2,5.2,5.3,5.4,5.4,5.5,5.5,5.6,5.8,5.9,5.9,5.9,5.9,5.11,6.01])"
   ]
  },
  {
   "cell_type": "code",
   "execution_count": 65,
   "id": "4f462fd2",
   "metadata": {
    "collapsed": true,
    "jupyter": {
     "outputs_hidden": true
    }
   },
   "outputs": [
    {
     "data": {
      "text/plain": [
       "(5.55125, 0.09601166666666665, 0.30985749412700453)"
      ]
     },
     "execution_count": 65,
     "metadata": {},
     "output_type": "execute_result"
    }
   ],
   "source": [
    "hieght1.mean(),hieght1.var(),hieght1.std()"
   ]
  },
  {
   "cell_type": "code",
   "execution_count": 81,
   "id": "a3c1ae30",
   "metadata": {},
   "outputs": [
    {
     "data": {
      "text/plain": [
       "(2.2929147368421057, 5.721000000000001)"
      ]
     },
     "execution_count": 81,
     "metadata": {},
     "output_type": "execute_result"
    }
   ],
   "source": [
    "hieght = pd.Series([3,3.5,9.5,9.6,5.2,5.2,5.2,5.3,5.4,5.4,5.5,5.5,5.6,5.8,5.9,5.9,5.9,5.9,5.11,6.01])\n",
    "hieght.var(),hieght.mean()"
   ]
  },
  {
   "cell_type": "code",
   "execution_count": 47,
   "id": "50faaa28",
   "metadata": {},
   "outputs": [],
   "source": [
    "M, Q1, Q2, Q3, MX = hieght.min(),hieght.quantile(0.25),hieght.quantile(0.5),hieght.quantile(0.75),hieght.max()"
   ]
  },
  {
   "cell_type": "code",
   "execution_count": 51,
   "id": "ce1128b7",
   "metadata": {
    "collapsed": true,
    "jupyter": {
     "outputs_hidden": true
    }
   },
   "outputs": [
    {
     "data": {
      "text/plain": [
       "0.7000000000000002"
      ]
     },
     "execution_count": 51,
     "metadata": {},
     "output_type": "execute_result"
    }
   ],
   "source": [
    "QD = Q3 - Q1\n",
    "QD"
   ]
  },
  {
   "cell_type": "code",
   "execution_count": 54,
   "id": "bf284baa",
   "metadata": {},
   "outputs": [],
   "source": [
    "LQR = Q1 - 1.5*(QD)\n",
    "UQR = Q3 + 1.5*(QD)"
   ]
  },
  {
   "cell_type": "code",
   "execution_count": 55,
   "id": "b1f251b9",
   "metadata": {},
   "outputs": [],
   "source": [
    "IQR = [LQR, UQR]"
   ]
  },
  {
   "cell_type": "code",
   "execution_count": 56,
   "id": "12c1a0b8",
   "metadata": {},
   "outputs": [
    {
     "data": {
      "text/plain": [
       "[4.15, 6.950000000000001]"
      ]
     },
     "execution_count": 56,
     "metadata": {},
     "output_type": "execute_result"
    }
   ],
   "source": [
    "IQR"
   ]
  },
  {
   "cell_type": "code",
   "execution_count": 63,
   "id": "bbb334dc",
   "metadata": {},
   "outputs": [],
   "source": [
    "o_hieght = hieght[(hieght>=LQR) & (hieght<=UQR)]"
   ]
  },
  {
   "cell_type": "code",
   "execution_count": 64,
   "id": "d61158c7",
   "metadata": {},
   "outputs": [
    {
     "data": {
      "text/plain": [
       "(5.55125, 0.09601166666666665, 0.30985749412700453)"
      ]
     },
     "execution_count": 64,
     "metadata": {},
     "output_type": "execute_result"
    }
   ],
   "source": [
    "o_hieght.mean(),o_hieght.var(),o_hieght.std()"
   ]
  },
  {
   "cell_type": "code",
   "execution_count": 72,
   "id": "5b60a139",
   "metadata": {},
   "outputs": [
    {
     "data": {
      "text/plain": [
       "78"
      ]
     },
     "execution_count": 72,
     "metadata": {},
     "output_type": "execute_result"
    }
   ],
   "source": [
    "slr = salaries['salary']\n",
    "slr.count()"
   ]
  },
  {
   "cell_type": "code",
   "execution_count": 71,
   "id": "7747d1fc",
   "metadata": {},
   "outputs": [
    {
     "data": {
      "text/plain": [
       "(57800, 88612.5, 104671.0, 126774.75, 186960)"
      ]
     },
     "execution_count": 71,
     "metadata": {},
     "output_type": "execute_result"
    }
   ],
   "source": [
    "M, Q1, Q2, Q3, MX = slr.min(),slr.quantile(0.25),slr.quantile(0.5),slr.quantile(0.75),slr.max()\n",
    "M,Q1,Q2,Q3,MX"
   ]
  },
  {
   "cell_type": "code",
   "execution_count": 70,
   "id": "c22dc2cb",
   "metadata": {},
   "outputs": [
    {
     "data": {
      "text/plain": [
       "[31369.125, 184018.125]"
      ]
     },
     "execution_count": 70,
     "metadata": {},
     "output_type": "execute_result"
    }
   ],
   "source": [
    "QD = Q3 - Q1\n",
    "LQR = Q1 - 1.5*(QD)\n",
    "UQR = Q3 + 1.5*(QD)\n",
    "IQR = [LQR, UQR]\n",
    "IQR"
   ]
  },
  {
   "cell_type": "code",
   "execution_count": 73,
   "id": "5c85725e",
   "metadata": {},
   "outputs": [
    {
     "data": {
      "text/plain": [
       "77"
      ]
     },
     "execution_count": 73,
     "metadata": {},
     "output_type": "execute_result"
    }
   ],
   "source": [
    "o_slr = slr[(slr>=LQR) & (slr<=UQR)]\n",
    "o_slr.count()"
   ]
  },
  {
   "cell_type": "code",
   "execution_count": null,
   "id": "ab2f9ce3",
   "metadata": {},
   "outputs": [],
   "source": [
    "μ3 =measure of skewness =  ∑(x-x_bar)^3/n\n",
    "μ4 =Measure of kurtosis =  ∑(x-x_bar)^4/n  \n",
    "\n",
    "skew = μ3^2/μ2^3\n",
    "kurt = μ4/ μ2^2"
   ]
  },
  {
   "cell_type": "code",
   "execution_count": 84,
   "id": "f9612c78",
   "metadata": {},
   "outputs": [],
   "source": [
    "μ2 = (hieght-hieght.mean())**2\n",
    "μ3 = (hieght-hieght.mean())**3\n",
    "μ4 = (hieght-hieght.mean())**4"
   ]
  },
  {
   "cell_type": "code",
   "execution_count": 85,
   "id": "687ddeca",
   "metadata": {},
   "outputs": [],
   "source": [
    "hight_data = pd.DataFrame({'μ1':hieght,\n",
    "             'μ2':μ2,\n",
    "             'μ3':μ3,\n",
    "             'μ4':μ4})           "
   ]
  },
  {
   "cell_type": "code",
   "execution_count": 89,
   "id": "9bbca2ac",
   "metadata": {},
   "outputs": [
    {
     "data": {
      "text/plain": [
       "1.5660069475955745"
      ]
     },
     "execution_count": 89,
     "metadata": {},
     "output_type": "execute_result"
    }
   ],
   "source": [
    "skew = (hight_data['μ3'].mean())**2 / (hight_data['μ2'].mean())**3\n",
    "skew"
   ]
  },
  {
   "cell_type": "code",
   "execution_count": 90,
   "id": "c14905e9",
   "metadata": {},
   "outputs": [
    {
     "data": {
      "text/plain": [
       "1.3552397629501687"
      ]
     },
     "execution_count": 90,
     "metadata": {},
     "output_type": "execute_result"
    }
   ],
   "source": [
    "hieght.skew()"
   ]
  },
  {
   "cell_type": "code",
   "execution_count": 91,
   "id": "a31d88ce",
   "metadata": {},
   "outputs": [
    {
     "data": {
      "text/plain": [
       "5.373427449245935"
      ]
     },
     "execution_count": 91,
     "metadata": {},
     "output_type": "execute_result"
    }
   ],
   "source": [
    "kurt = (hight_data['μ4'].mean()) / (hight_data['μ2'].mean())**2 # kurt == 3 \n",
    "kurt"
   ]
  },
  {
   "cell_type": "code",
   "execution_count": null,
   "id": "a181d13e",
   "metadata": {},
   "outputs": [],
   "source": []
  }
 ],
 "metadata": {
  "kernelspec": {
   "display_name": "Python 3 (ipykernel)",
   "language": "python",
   "name": "python3"
  },
  "language_info": {
   "codemirror_mode": {
    "name": "ipython",
    "version": 3
   },
   "file_extension": ".py",
   "mimetype": "text/x-python",
   "name": "python",
   "nbconvert_exporter": "python",
   "pygments_lexer": "ipython3",
   "version": "3.11.7"
  }
 },
 "nbformat": 4,
 "nbformat_minor": 5
}
