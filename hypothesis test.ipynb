{
 "cells": [
  {
   "cell_type": "code",
   "execution_count": null,
   "id": "52d8e33d",
   "metadata": {},
   "outputs": [],
   "source": [
    "Hypothesis testing is of two types:\n",
    "\n",
    "One-tailed test\n",
    "Two-tailed test"
   ]
  },
  {
   "cell_type": "code",
   "execution_count": 1,
   "id": "31d1e35c",
   "metadata": {},
   "outputs": [
    {
     "name": "stdout",
     "output_type": "stream",
     "text": [
      "DescribeResult(nobs=100, minmax=(-2.422035144227755, 2.9173455909556694), mean=0.12823655374249834, variance=0.890099151098581, skewness=0.10337587794728012, kurtosis=-0.04748807571643843)\n"
     ]
    }
   ],
   "source": [
    "import numpy as np\n",
    "from scipy.stats import describe\n",
    "v = np.random.normal(size=100)\n",
    "result = describe(v)\n",
    "print(result)"
   ]
  },
  {
   "cell_type": "markdown",
   "id": "6d7d6cad",
   "metadata": {},
   "source": [
    "# T test"
   ]
  },
  {
   "cell_type": "code",
   "execution_count": 2,
   "id": "711d3388",
   "metadata": {},
   "outputs": [
    {
     "name": "stdout",
     "output_type": "stream",
     "text": [
      "TtestResult(statistic=0.5053859940348663, pvalue=0.6138498627978984, df=198.0)\n"
     ]
    }
   ],
   "source": [
    "import numpy as np\n",
    "from scipy.stats import ttest_ind\n",
    "\n",
    "sample1 = np.random.normal(size=100)\n",
    "sample2= np.random.normal(size=100)\n",
    "res = ttest_ind(sample1, sample2)\n",
    "print(res)"
   ]
  },
  {
   "cell_type": "code",
   "execution_count": 5,
   "id": "5ef76d3b",
   "metadata": {},
   "outputs": [
    {
     "name": "stdout",
     "output_type": "stream",
     "text": [
      "0.5053859940348663\n"
     ]
    }
   ],
   "source": [
    "res = ttest_ind(sample1, sample2).statistic\n",
    "print(res)"
   ]
  },
  {
   "cell_type": "markdown",
   "id": "bd7e96aa",
   "metadata": {},
   "source": [
    "# One-sample t-test example in Python\n",
    "Let us learn how to conduct a one-sample t-test in Python using the scipy.stats.ttest_1samp() function. "
   ]
  },
  {
   "cell_type": "code",
   "execution_count": 6,
   "id": "27489abd",
   "metadata": {},
   "outputs": [
    {
     "name": "stdout",
     "output_type": "stream",
     "text": [
      "[12.23474468  8.5567262  11.47498808 12.22166551  9.99158327 12.09474042\n",
      " 10.94860252 11.1911949  11.15070894 10.87331131 10.34318228 12.09591814\n",
      " 11.41145735 11.34857568 10.5610383  11.24527304 10.12022792 12.85130674\n",
      " 10.04660838 10.3306809  11.09518213]\n",
      "t-statistic = 4.943935709814096\n",
      "p-value = 7.819290895027923e-05\n"
     ]
    }
   ],
   "source": [
    "import numpy as np  \n",
    "from scipy import stats  \n",
    "\n",
    "# Population Mean \n",
    "mu = 10\n",
    "# Sample Size\n",
    "N1 = 21\n",
    "# Degrees of freedom  \n",
    "dof = N1 - 1\n",
    "# Generate a random sample with mean = 11 and standard deviation = 1\n",
    "x = np.random.randn(N1) + 11\n",
    "print(x)\n",
    "# Using the Stats library, compute t-statistic and p-value\n",
    "t_stat, p_val = stats.ttest_1samp(a=x, popmean = mu)\n",
    "print(\"t-statistic = \" + str(t_stat))  \n",
    "print(\"p-value = \" + str(p_val)) "
   ]
  },
  {
   "cell_type": "code",
   "execution_count": 7,
   "id": "1ffbcfa9",
   "metadata": {},
   "outputs": [
    {
     "data": {
      "text/plain": [
       "TtestResult(statistic=4.943935709814096, pvalue=7.819290895027923e-05, df=20)"
      ]
     },
     "execution_count": 7,
     "metadata": {},
     "output_type": "execute_result"
    }
   ],
   "source": [
    "stats.ttest_1samp(a=x, popmean = mu)"
   ]
  },
  {
   "cell_type": "raw",
   "id": "87f713aa",
   "metadata": {},
   "source": [
    "Interpretation of the test results\n",
    "The value of t-statistic comes out to be 4.69 which seems to be very far from the mean of zero in a t-distribution. \n",
    "To quantify such extreme value, we refer to a p-value (which is introduced in the terminology section). \n",
    "The p-value is less than the default significance level of 0.05, which indicates that \n",
    "the probability of such an extreme outcome is close to zero and that the null hypothesis can be rejected.\n",
    "\n",
    "Note that the significance level is set at the beginning of the experiment."
   ]
  },
  {
   "cell_type": "code",
   "execution_count": null,
   "id": "ef8f6a30",
   "metadata": {},
   "outputs": [],
   "source": []
  },
  {
   "cell_type": "markdown",
   "id": "7b980d9f",
   "metadata": {},
   "source": [
    "# Two-sample t-test\n",
    "Let’s consider that the first factory shares 21 samples of ball bearings where the mean diameter of the sample comes out to be 10.5 cm. On the other hand, the second factory shares 25 samples with a mean diameter of 9.5 cm. Both have a standard deviation of 1 cm. "
   ]
  },
  {
   "cell_type": "code",
   "execution_count": 9,
   "id": "65943073",
   "metadata": {},
   "outputs": [
    {
     "name": "stdout",
     "output_type": "stream",
     "text": [
      "t-statistic = 1.7663556203787387\n",
      "p-value = 0.0842733692326086\n"
     ]
    }
   ],
   "source": [
    "# Sample Sizes\n",
    "N1, N2 = 21, 25\n",
    "# Degrees of freedom  \n",
    "dof = min(N1,N2) - 1\n",
    "# Gaussian distributed data with mean = 10.5 and var = 1  \n",
    "x = np.random.randn(N1) + 10.5\n",
    "# Gaussian distributed data with mean = 9.5 and var = 1  \n",
    "y = np.random.randn(N2) + 9.5\n",
    "## Using the internal function from SciPy Package  \n",
    "t_stat, p_val = stats.ttest_ind(x, y)  \n",
    "print(\"t-statistic = \" + str(t_stat))  \n",
    "print(\"p-value = \" + str(p_val))"
   ]
  },
  {
   "cell_type": "code",
   "execution_count": null,
   "id": "29463c5d",
   "metadata": {},
   "outputs": [],
   "source": [
    "Interpretation of the test results\n",
    "Referring to the p-value of 0.0026 which is less than the significance level of 0.05, we reject the null hypothesis stating that the bearings from the two factories are not identical."
   ]
  },
  {
   "cell_type": "markdown",
   "id": "fc1d01d9",
   "metadata": {},
   "source": [
    "# Paired t-test example in Python\n",
    "Let’s perform a paired t-test to verify if the change is statistically significant."
   ]
  },
  {
   "cell_type": "code",
   "execution_count": 8,
   "id": "ba01cfa5",
   "metadata": {},
   "outputs": [
    {
     "name": "stdout",
     "output_type": "stream",
     "text": [
      "t-statistic = 3.8796818059180973\n",
      "p-value = 0.0007137375257872422\n"
     ]
    }
   ],
   "source": [
    "# Sample Sizes\n",
    "N = 25\n",
    "# Degrees of freedom  \n",
    "dof = N - 1\n",
    "# Gaussian distributed data with mean = 10.5 and var = 1  \n",
    "x = np.random.randn(N) + 10.5\n",
    "# Gaussian distributed data with mean = 9.9 and var = 1  \n",
    "y = np.random.randn(N) + 9.9\n",
    "t_stat, p_val = stats.ttest_rel(x,y)\n",
    "print(\"t-statistic = \" + str(t_stat))  \n",
    "print(\"p-value = \" + str(p_val))"
   ]
  },
  {
   "cell_type": "code",
   "execution_count": null,
   "id": "e50348f1",
   "metadata": {},
   "outputs": [],
   "source": [
    "Interpretation of the test results\n",
    "The low p-value indicates that the null hypothesis is rejected, i.e., there is no change in the diameter of the ball bearings after introducing the new casting machine. "
   ]
  },
  {
   "cell_type": "markdown",
   "id": "fe6bf39e",
   "metadata": {},
   "source": [
    "# Chisquares test"
   ]
  },
  {
   "cell_type": "code",
   "execution_count": 9,
   "id": "7bc0b701",
   "metadata": {
    "collapsed": true
   },
   "outputs": [
    {
     "name": "stdout",
     "output_type": "stream",
     "text": [
      "National\n",
      "col_0      count\n",
      "0               \n",
      "asian      15000\n",
      "black      50000\n",
      "hispanic   60000\n",
      "other      35000\n",
      "white     100000\n",
      " \n",
      "Minnesota\n",
      "col_0     count\n",
      "0              \n",
      "asian        75\n",
      "black       250\n",
      "hispanic    300\n",
      "other       150\n",
      "white       600\n"
     ]
    }
   ],
   "source": [
    "import numpy as np\n",
    "import pandas as pd\n",
    "import scipy.stats as stats\n",
    "national = pd.DataFrame([\"white\"]*100000 + [\"hispanic\"]*60000 +\\\n",
    "                        [\"black\"]*50000 + [\"asian\"]*15000 + [\"other\"]*35000)\n",
    "minnesota = pd.DataFrame([\"white\"]*600 + [\"hispanic\"]*300 + \\\n",
    "                         [\"black\"]*250 +[\"asian\"]*75 + [\"other\"]*150)\n",
    "\n",
    "national_table = pd.crosstab(index=national[0], columns=\"count\")\n",
    "minnesota_table = pd.crosstab(index=minnesota[0], columns=\"count\")\n",
    "\n",
    "print( \"National\")\n",
    "print(national_table)\n",
    "print(\" \")\n",
    "print( \"Minnesota\")\n",
    "print(minnesota_table)"
   ]
  },
  {
   "cell_type": "code",
   "execution_count": 11,
   "id": "ac261ca5",
   "metadata": {
    "collapsed": true
   },
   "outputs": [
    {
     "name": "stdout",
     "output_type": "stream",
     "text": [
      "col_0\n",
      "count    18.194805\n",
      "dtype: float64\n",
      "Critical value: 9.487729036781154\n",
      "\n",
      "P value: [0.00113047]\n",
      "\n"
     ]
    }
   ],
   "source": [
    "national_ratios = national_table/len(national)  # Get population ratios\n",
    "\n",
    "observed = minnesota_table\n",
    "expected = national_ratios * len(minnesota)   # Get expected counts\n",
    "\n",
    "# chi_square statistics\n",
    "chi_squared_stat = (((observed-expected)**2)/expected).sum()\n",
    "print(chi_squared_stat)\n",
    "\n",
    "crit = stats.chi2.ppf(q = 0.95, # Find the critical value for 95% confidence*\n",
    "                      df = 4)   # Df = number of variable categories - 1\n",
    "print(\"Critical value:\", crit)\n",
    "print()\n",
    "\n",
    "p_value = 1 - stats.chi2.cdf(x=chi_squared_stat,  # Find the p-value\n",
    "                             df=4)\n",
    "print(\"P value:\",p_value)\n",
    "print()\n",
    "\n"
   ]
  },
  {
   "cell_type": "code",
   "execution_count": 12,
   "id": "4ac677b3",
   "metadata": {},
   "outputs": [
    {
     "data": {
      "text/plain": [
       "Power_divergenceResult(statistic=array([18.19480519]), pvalue=array([0.00113047]))"
      ]
     },
     "execution_count": 12,
     "metadata": {},
     "output_type": "execute_result"
    }
   ],
   "source": [
    "stats.chisquare(f_obs= observed,  f_exp= expected)   # Array of expected counts"
   ]
  },
  {
   "cell_type": "markdown",
   "id": "a81ade67",
   "metadata": {},
   "source": [
    "# Chi-Squared Test of Independence"
   ]
  },
  {
   "cell_type": "code",
   "execution_count": 13,
   "id": "cfe6a346",
   "metadata": {},
   "outputs": [
    {
     "data": {
      "text/html": [
       "<div>\n",
       "<style scoped>\n",
       "    .dataframe tbody tr th:only-of-type {\n",
       "        vertical-align: middle;\n",
       "    }\n",
       "\n",
       "    .dataframe tbody tr th {\n",
       "        vertical-align: top;\n",
       "    }\n",
       "\n",
       "    .dataframe thead th {\n",
       "        text-align: right;\n",
       "    }\n",
       "</style>\n",
       "<table border=\"1\" class=\"dataframe\">\n",
       "  <thead>\n",
       "    <tr style=\"text-align: right;\">\n",
       "      <th></th>\n",
       "      <th>democrat</th>\n",
       "      <th>independent</th>\n",
       "      <th>republican</th>\n",
       "      <th>row_totals</th>\n",
       "    </tr>\n",
       "  </thead>\n",
       "  <tbody>\n",
       "    <tr>\n",
       "      <th>asian</th>\n",
       "      <td>21</td>\n",
       "      <td>7</td>\n",
       "      <td>32</td>\n",
       "      <td>60</td>\n",
       "    </tr>\n",
       "    <tr>\n",
       "      <th>black</th>\n",
       "      <td>65</td>\n",
       "      <td>25</td>\n",
       "      <td>64</td>\n",
       "      <td>154</td>\n",
       "    </tr>\n",
       "    <tr>\n",
       "      <th>hispanic</th>\n",
       "      <td>107</td>\n",
       "      <td>50</td>\n",
       "      <td>94</td>\n",
       "      <td>251</td>\n",
       "    </tr>\n",
       "    <tr>\n",
       "      <th>other</th>\n",
       "      <td>15</td>\n",
       "      <td>8</td>\n",
       "      <td>15</td>\n",
       "      <td>38</td>\n",
       "    </tr>\n",
       "    <tr>\n",
       "      <th>white</th>\n",
       "      <td>189</td>\n",
       "      <td>96</td>\n",
       "      <td>212</td>\n",
       "      <td>497</td>\n",
       "    </tr>\n",
       "    <tr>\n",
       "      <th>col_totals</th>\n",
       "      <td>397</td>\n",
       "      <td>186</td>\n",
       "      <td>417</td>\n",
       "      <td>1000</td>\n",
       "    </tr>\n",
       "  </tbody>\n",
       "</table>\n",
       "</div>"
      ],
      "text/plain": [
       "            democrat  independent  republican  row_totals\n",
       "asian             21            7          32          60\n",
       "black             65           25          64         154\n",
       "hispanic         107           50          94         251\n",
       "other             15            8          15          38\n",
       "white            189           96         212         497\n",
       "col_totals       397          186         417        1000"
      ]
     },
     "execution_count": 13,
     "metadata": {},
     "output_type": "execute_result"
    }
   ],
   "source": [
    "np.random.seed(10)\n",
    "\n",
    "# Sample data randomly at fixed probabilities\n",
    "voter_race = np.random.choice(a= [\"asian\",\"black\",\"hispanic\",\"other\",\"white\"],\n",
    "                              p = [0.05, 0.15 ,0.25, 0.05, 0.5],\n",
    "                              size=1000)\n",
    "\n",
    "# Sample data randomly at fixed probabilities\n",
    "voter_party = np.random.choice(a= [\"democrat\",\"independent\",\"republican\"],\n",
    "                              p = [0.4, 0.2, 0.4],\n",
    "                              size=1000)\n",
    "\n",
    "voters = pd.DataFrame({\"race\":voter_race, \n",
    "                       \"party\":voter_party})\n",
    "\n",
    "voter_tab = pd.crosstab(voters.race, voters.party, margins = True)\n",
    "\n",
    "voter_tab.columns = [\"democrat\",\"independent\",\"republican\",\"row_totals\"]\n",
    "\n",
    "voter_tab.index = [\"asian\",\"black\",\"hispanic\",\"other\",\"white\",\"col_totals\"]\n",
    "\n",
    "observed = voter_tab.iloc[0:5,0:3]   # Get table without totals for later use\n",
    "voter_tab\n"
   ]
  },
  {
   "cell_type": "code",
   "execution_count": 14,
   "id": "c23f215a",
   "metadata": {},
   "outputs": [
    {
     "data": {
      "text/html": [
       "<div>\n",
       "<style scoped>\n",
       "    .dataframe tbody tr th:only-of-type {\n",
       "        vertical-align: middle;\n",
       "    }\n",
       "\n",
       "    .dataframe tbody tr th {\n",
       "        vertical-align: top;\n",
       "    }\n",
       "\n",
       "    .dataframe thead th {\n",
       "        text-align: right;\n",
       "    }\n",
       "</style>\n",
       "<table border=\"1\" class=\"dataframe\">\n",
       "  <thead>\n",
       "    <tr style=\"text-align: right;\">\n",
       "      <th></th>\n",
       "      <th>democrat</th>\n",
       "      <th>independent</th>\n",
       "      <th>republican</th>\n",
       "    </tr>\n",
       "  </thead>\n",
       "  <tbody>\n",
       "    <tr>\n",
       "      <th>asian</th>\n",
       "      <td>23.820</td>\n",
       "      <td>11.160</td>\n",
       "      <td>25.020</td>\n",
       "    </tr>\n",
       "    <tr>\n",
       "      <th>black</th>\n",
       "      <td>61.138</td>\n",
       "      <td>28.644</td>\n",
       "      <td>64.218</td>\n",
       "    </tr>\n",
       "    <tr>\n",
       "      <th>hispanic</th>\n",
       "      <td>99.647</td>\n",
       "      <td>46.686</td>\n",
       "      <td>104.667</td>\n",
       "    </tr>\n",
       "    <tr>\n",
       "      <th>other</th>\n",
       "      <td>15.086</td>\n",
       "      <td>7.068</td>\n",
       "      <td>15.846</td>\n",
       "    </tr>\n",
       "    <tr>\n",
       "      <th>white</th>\n",
       "      <td>197.309</td>\n",
       "      <td>92.442</td>\n",
       "      <td>207.249</td>\n",
       "    </tr>\n",
       "  </tbody>\n",
       "</table>\n",
       "</div>"
      ],
      "text/plain": [
       "          democrat  independent  republican\n",
       "asian       23.820       11.160      25.020\n",
       "black       61.138       28.644      64.218\n",
       "hispanic    99.647       46.686     104.667\n",
       "other       15.086        7.068      15.846\n",
       "white      197.309       92.442     207.249"
      ]
     },
     "execution_count": 14,
     "metadata": {},
     "output_type": "execute_result"
    }
   ],
   "source": [
    "expected =  np.outer(voter_tab[\"row_totals\"][0:5],\n",
    "                     voter_tab.loc[\"col_totals\"][0:3]) / 1000\n",
    "\n",
    "expected = pd.DataFrame(expected)\n",
    "\n",
    "expected.columns = [\"democrat\",\"independent\",\"republican\"]\n",
    "expected.index = [\"asian\",\"black\",\"hispanic\",\"other\",\"white\"]\n",
    "\n",
    "expected"
   ]
  },
  {
   "cell_type": "code",
   "execution_count": null,
   "id": "8544d083",
   "metadata": {},
   "outputs": [],
   "source": [
    "[[ 23.82 ,  11.16 ,  25.02 ],\n",
    "       [ 61.138,  28.644,  64.218],\n",
    "       [ 99.647,  46.686, 104.667],\n",
    "       [ 15.086,   7.068,  15.846],\n",
    "       [197.309,  92.442, 207.249]]))"
   ]
  },
  {
   "cell_type": "code",
   "execution_count": 16,
   "id": "5ebce2c0",
   "metadata": {},
   "outputs": [
    {
     "name": "stdout",
     "output_type": "stream",
     "text": [
      "7.169321280162059\n"
     ]
    }
   ],
   "source": [
    "chi_squared_stat = (((observed-expected)**2)/expected).sum().sum()\n",
    "\n",
    "print(chi_squared_stat)\n"
   ]
  },
  {
   "cell_type": "code",
   "execution_count": 17,
   "id": "672217b0",
   "metadata": {},
   "outputs": [
    {
     "data": {
      "text/plain": [
       "Power_divergenceResult(statistic=array([1.47078796, 2.50934232, 3.189191  ]), pvalue=array([0.83180311, 0.64296369, 0.52667855]))"
      ]
     },
     "execution_count": 17,
     "metadata": {},
     "output_type": "execute_result"
    }
   ],
   "source": [
    "stats.chisquare(f_obs= observed,  f_exp= expected)"
   ]
  },
  {
   "cell_type": "code",
   "execution_count": 14,
   "id": "7e4e757c",
   "metadata": {},
   "outputs": [
    {
     "name": "stdout",
     "output_type": "stream",
     "text": [
      "Critical value:  15.50731305586545\n",
      "P value:  0.518479392948842\n"
     ]
    }
   ],
   "source": [
    "crit = stats.chi2.ppf(q = 0.95, # Find the critical value for 95% confidence*\n",
    "                      df = 8)   # *\n",
    "\n",
    "print(\"Critical value: \",crit)\n",
    "# print(crit)\n",
    "\n",
    "p_value = 1 - stats.chi2.cdf(x=chi_squared_stat,  # Find the p-value\n",
    "                             df=8)\n",
    "print(\"P value: \",p_value)\n",
    "# print(p_value)"
   ]
  },
  {
   "cell_type": "code",
   "execution_count": 15,
   "id": "2ad281b5",
   "metadata": {},
   "outputs": [
    {
     "data": {
      "text/plain": [
       "Chi2ContingencyResult(statistic=7.169321280162059, pvalue=0.518479392948842, dof=8, expected_freq=array([[ 23.82 ,  11.16 ,  25.02 ],\n",
       "       [ 61.138,  28.644,  64.218],\n",
       "       [ 99.647,  46.686, 104.667],\n",
       "       [ 15.086,   7.068,  15.846],\n",
       "       [197.309,  92.442, 207.249]]))"
      ]
     },
     "execution_count": 15,
     "metadata": {},
     "output_type": "execute_result"
    }
   ],
   "source": [
    "stats.chi2_contingency(observed= observed)"
   ]
  },
  {
   "cell_type": "markdown",
   "id": "55251ea5",
   "metadata": {},
   "source": [
    "# ANOVA"
   ]
  },
  {
   "cell_type": "code",
   "execution_count": null,
   "id": "195cfae8",
   "metadata": {},
   "outputs": [],
   "source": [
    "One-Way ANOVA¶\n",
    "The one-way ANOVA tests whether the mean of some numeric variable differs across the levels of one categorical variable. \n",
    "It essentially answers the question: do any of the group means differ from one another? We won't get into the details of\n",
    "carrying out an ANOVA by hand as it involves more calculations than the t-test, but the process is similar: you go through \n",
    "several calculations to arrive at a test statistic and then you compare the test statistic to a critical value based \n",
    "on a probability distribution. In the case of the ANOVA, you use the \"f-distribution\"."
   ]
  },
  {
   "cell_type": "code",
   "execution_count": null,
   "id": "cb414dd5",
   "metadata": {},
   "outputs": [],
   "source": [
    "The scipy library has a function for carrying out one-way ANOVA tests called scipy.stats.f_oneway(). \n",
    "Let's generate some fake voter age and demographic data and use the ANOVA to compare average ages across the groups:"
   ]
  },
  {
   "cell_type": "code",
   "execution_count": 20,
   "id": "11f65bc1",
   "metadata": {},
   "outputs": [
    {
     "data": {
      "text/plain": [
       "array([51, 57, 49, 61, 53, 49, 43, 55, 52, 50, 41, 51, 49, 45, 51, 46, 45,\n",
       "       42, 41, 50, 42, 43, 50, 50, 42, 48, 45, 44, 44, 60, 56, 47, 43, 44,\n",
       "       45, 52, 45, 52, 43, 43, 38, 52, 47, 47, 41, 44, 61, 44, 40, 45, 45,\n",
       "       44, 46, 48, 41, 51, 38, 45, 50, 43, 40, 52, 45, 60, 49, 51, 48, 48,\n",
       "       45, 51, 57, 51, 50, 52, 47, 48, 44, 44, 49, 37, 50, 51, 56, 48, 58,\n",
       "       41, 48, 49, 54, 34, 45, 56, 54, 41, 46, 43, 47, 51, 52, 55, 56, 48,\n",
       "       57, 46, 45, 43, 47, 46, 50, 45, 42, 45, 51, 47, 46, 42, 43, 51, 46,\n",
       "       54, 46, 45, 45, 47, 53, 50, 42, 44, 47, 47, 52, 42, 47, 43, 43, 43,\n",
       "       42, 49, 43, 37, 53, 53, 55, 49, 40, 51, 56], dtype=int64)"
      ]
     },
     "execution_count": 20,
     "metadata": {},
     "output_type": "execute_result"
    }
   ],
   "source": [
    "np.random.seed(12)\n",
    "races =   [\"asian\",\"black\",\"hispanic\",\"other\",\"white\"]\n",
    "\n",
    "# Generate random data\n",
    "voter_race = np.random.choice(a= races,\n",
    "                              p = [0.05, 0.15 ,0.25, 0.05, 0.5],\n",
    "                              size=1000)\n",
    "voter_age = stats.poisson.rvs(loc=18,\n",
    "                              mu=30,\n",
    "                              size=1000)\n",
    "# Group age data by race\n",
    "voter_frame = pd.DataFrame({\"race\":voter_race,\"age\":voter_age})\n",
    "groups = voter_frame.groupby(\"race\").groups\n",
    "\n",
    "# Extract individual groups\n",
    "asian = voter_age[groups[\"asian\"]]\n",
    "black = voter_age[groups[\"black\"]]\n",
    "hispanic = voter_age[groups[\"hispanic\"]]\n",
    "other = voter_age[groups[\"other\"]]\n",
    "white = voter_age[groups[\"white\"]]\n"
   ]
  },
  {
   "cell_type": "code",
   "execution_count": 21,
   "id": "6bfe0315",
   "metadata": {},
   "outputs": [
    {
     "data": {
      "text/plain": [
       "F_onewayResult(statistic=1.7744689357329695, pvalue=0.13173183201930463)"
      ]
     },
     "execution_count": 21,
     "metadata": {},
     "output_type": "execute_result"
    }
   ],
   "source": [
    "# Perform the ANOVA\n",
    "stats.f_oneway(asian, black, hispanic, other, white)"
   ]
  },
  {
   "cell_type": "code",
   "execution_count": 23,
   "id": "0b73f55e",
   "metadata": {},
   "outputs": [
    {
     "name": "stdout",
     "output_type": "stream",
     "text": [
      "             sum_sq     df         F    PR(>F)\n",
      "race        199.369    4.0  1.774469  0.131732\n",
      "Residual  27948.102  995.0       NaN       NaN\n"
     ]
    }
   ],
   "source": [
    "import statsmodels.api as sm\n",
    "from statsmodels.formula.api import ols\n",
    "\n",
    "model = ols('age ~ race',                 # Model formula\n",
    "            data = voter_frame).fit()\n",
    "                \n",
    "anova_result = sm.stats.anova_lm(model, typ=2)\n",
    "print (anova_result)"
   ]
  },
  {
   "cell_type": "code",
   "execution_count": 24,
   "id": "c5d02168",
   "metadata": {},
   "outputs": [
    {
     "data": {
      "text/plain": [
       "F_onewayResult(statistic=10.164699828386366, pvalue=4.5613242113994585e-08)"
      ]
     },
     "execution_count": 24,
     "metadata": {},
     "output_type": "execute_result"
    }
   ],
   "source": [
    "np.random.seed(12)\n",
    "\n",
    "# Generate random data\n",
    "voter_race = np.random.choice(a= races,\n",
    "                              p = [0.05, 0.15 ,0.25, 0.05, 0.5],\n",
    "                              size=1000)\n",
    "\n",
    "# Use a different distribution for white ages\n",
    "white_ages = stats.poisson.rvs(loc=18, \n",
    "                              mu=32,\n",
    "                              size=1000)\n",
    "\n",
    "voter_age = stats.poisson.rvs(loc=18,\n",
    "                              mu=30,\n",
    "                              size=1000)\n",
    "\n",
    "voter_age = np.where(voter_race==\"white\", white_ages, voter_age)\n",
    "\n",
    "# Group age data by race\n",
    "voter_frame = pd.DataFrame({\"race\":voter_race,\"age\":voter_age})\n",
    "groups = voter_frame.groupby(\"race\").groups   \n",
    "\n",
    "# Extract individual groups\n",
    "asian = voter_age[groups[\"asian\"]]\n",
    "black = voter_age[groups[\"black\"]]\n",
    "hispanic = voter_age[groups[\"hispanic\"]]\n",
    "other = voter_age[groups[\"other\"]]\n",
    "white = voter_age[groups[\"white\"]]\n",
    "\n",
    "# Perform the ANOVA\n",
    "stats.f_oneway(asian, black, hispanic, other, white)\n"
   ]
  },
  {
   "cell_type": "code",
   "execution_count": 28,
   "id": "ddaddba9",
   "metadata": {},
   "outputs": [
    {
     "name": "stdout",
     "output_type": "stream",
     "text": [
      "                sum_sq     df        F        PR(>F)\n",
      "race       1284.123213    4.0  10.1647  4.561324e-08\n",
      "Residual  31424.995787  995.0      NaN           NaN\n"
     ]
    }
   ],
   "source": [
    "# Alternate method\n",
    "model = ols('age ~ race',                 # Model formula\n",
    "            data = voter_frame).fit()\n",
    "                \n",
    "anova_result = sm.stats.anova_lm(model,typ = 2)\n",
    "print (anova_result)"
   ]
  },
  {
   "cell_type": "code",
   "execution_count": 20,
   "id": "41399f20",
   "metadata": {},
   "outputs": [
    {
     "ename": "SyntaxError",
     "evalue": "unterminated string literal (detected at line 1) (977181348.py, line 1)",
     "output_type": "error",
     "traceback": [
      "\u001b[1;36m  Cell \u001b[1;32mIn[20], line 1\u001b[1;36m\u001b[0m\n\u001b[1;33m    The test result suggests the groups don't have the same sample means in this case, since the p-value is significant at a 99% confidence level. We know that it is the white voters who differ because we set it up that way in the code, but when testing real data, you may not know which group(s) caused the test to throw a positive result. To check which groups differ after getting a positive ANOVA result, you can perform a follow up test or \"post-hoc test\".\u001b[0m\n\u001b[1;37m                                           ^\u001b[0m\n\u001b[1;31mSyntaxError\u001b[0m\u001b[1;31m:\u001b[0m unterminated string literal (detected at line 1)\n"
     ]
    }
   ],
   "source": [
    "The test result suggests the groups don't have the same sample means in this case, since the p-value is significant at a 99% confidence level. We know that it is the white voters who differ because we set it up that way in the code, but when testing real data, you may not know which group(s) caused the test to throw a positive result. To check which groups differ after getting a positive ANOVA result, you can perform a follow up test or \"post-hoc test\".\n",
    "\n",
    "One post-hoc test is to perform a separate t-test for each pair of groups. You can perform a t-test between all pairs using by running each pair through the stats.ttest_ind() we covered in the lesson on t-tests:"
   ]
  },
  {
   "cell_type": "code",
   "execution_count": null,
   "id": "7b22c361",
   "metadata": {},
   "outputs": [],
   "source": []
  }
 ],
 "metadata": {
  "kernelspec": {
   "display_name": "Python 3 (ipykernel)",
   "language": "python",
   "name": "python3"
  },
  "language_info": {
   "codemirror_mode": {
    "name": "ipython",
    "version": 3
   },
   "file_extension": ".py",
   "mimetype": "text/x-python",
   "name": "python",
   "nbconvert_exporter": "python",
   "pygments_lexer": "ipython3",
   "version": "3.11.5"
  }
 },
 "nbformat": 4,
 "nbformat_minor": 5
}
