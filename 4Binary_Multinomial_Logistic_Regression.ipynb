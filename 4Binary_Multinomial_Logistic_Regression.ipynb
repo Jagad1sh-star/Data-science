{
 "cells": [
  {
   "cell_type": "code",
   "execution_count": 1,
   "metadata": {
    "id": "43W-WucrgSeW"
   },
   "outputs": [],
   "source": [
    "#load all necessary libraries\n",
    "import pandas as pd \n",
    "import numpy as np \n",
    "import scipy as scp\n",
    "import sklearn\n",
    "import statsmodels.api as sm\n",
    "import matplotlib.pyplot as plt\n",
    "from sklearn.model_selection import train_test_split\n",
    "from sklearn.linear_model import LogisticRegression, LinearRegression\n",
    "from sklearn.metrics import classification_report,confusion_matrix"
   ]
  },
  {
   "cell_type": "code",
   "execution_count": 2,
   "metadata": {
    "colab": {
     "base_uri": "https://localhost:8080/",
     "height": 262
    },
    "collapsed": true,
    "executionInfo": {
     "elapsed": 10844,
     "status": "ok",
     "timestamp": 1682765036030,
     "user": {
      "displayName": "Aparna apu",
      "userId": "16389552761110621802"
     },
     "user_tz": -330
    },
    "id": "dNSIIPUQgSed",
    "jupyter": {
     "outputs_hidden": true
    },
    "outputId": "225fc032-8b76-47af-b764-70d983ae680d"
   },
   "outputs": [
    {
     "data": {
      "text/html": [
       "<div>\n",
       "<style scoped>\n",
       "    .dataframe tbody tr th:only-of-type {\n",
       "        vertical-align: middle;\n",
       "    }\n",
       "\n",
       "    .dataframe tbody tr th {\n",
       "        vertical-align: top;\n",
       "    }\n",
       "\n",
       "    .dataframe thead th {\n",
       "        text-align: right;\n",
       "    }\n",
       "</style>\n",
       "<table border=\"1\" class=\"dataframe\">\n",
       "  <thead>\n",
       "    <tr style=\"text-align: right;\">\n",
       "      <th></th>\n",
       "      <th>CASENUM</th>\n",
       "      <th>ATTORNEY</th>\n",
       "      <th>CLMSEX</th>\n",
       "      <th>CLMINSUR</th>\n",
       "      <th>SEATBELT</th>\n",
       "      <th>CLMAGE</th>\n",
       "      <th>LOSS</th>\n",
       "    </tr>\n",
       "  </thead>\n",
       "  <tbody>\n",
       "    <tr>\n",
       "      <th>0</th>\n",
       "      <td>5</td>\n",
       "      <td>0</td>\n",
       "      <td>0.0</td>\n",
       "      <td>1.0</td>\n",
       "      <td>0.0</td>\n",
       "      <td>50.0</td>\n",
       "      <td>34.940</td>\n",
       "    </tr>\n",
       "    <tr>\n",
       "      <th>1</th>\n",
       "      <td>3</td>\n",
       "      <td>1</td>\n",
       "      <td>1.0</td>\n",
       "      <td>0.0</td>\n",
       "      <td>0.0</td>\n",
       "      <td>18.0</td>\n",
       "      <td>0.891</td>\n",
       "    </tr>\n",
       "    <tr>\n",
       "      <th>2</th>\n",
       "      <td>66</td>\n",
       "      <td>1</td>\n",
       "      <td>0.0</td>\n",
       "      <td>1.0</td>\n",
       "      <td>0.0</td>\n",
       "      <td>5.0</td>\n",
       "      <td>0.330</td>\n",
       "    </tr>\n",
       "    <tr>\n",
       "      <th>3</th>\n",
       "      <td>70</td>\n",
       "      <td>0</td>\n",
       "      <td>0.0</td>\n",
       "      <td>1.0</td>\n",
       "      <td>1.0</td>\n",
       "      <td>31.0</td>\n",
       "      <td>0.037</td>\n",
       "    </tr>\n",
       "    <tr>\n",
       "      <th>4</th>\n",
       "      <td>96</td>\n",
       "      <td>1</td>\n",
       "      <td>0.0</td>\n",
       "      <td>1.0</td>\n",
       "      <td>0.0</td>\n",
       "      <td>30.0</td>\n",
       "      <td>0.038</td>\n",
       "    </tr>\n",
       "  </tbody>\n",
       "</table>\n",
       "</div>"
      ],
      "text/plain": [
       "   CASENUM  ATTORNEY  CLMSEX  CLMINSUR  SEATBELT  CLMAGE    LOSS\n",
       "0        5         0     0.0       1.0       0.0    50.0  34.940\n",
       "1        3         1     1.0       0.0       0.0    18.0   0.891\n",
       "2       66         1     0.0       1.0       0.0     5.0   0.330\n",
       "3       70         0     0.0       1.0       1.0    31.0   0.037\n",
       "4       96         1     0.0       1.0       0.0    30.0   0.038"
      ]
     },
     "execution_count": 2,
     "metadata": {},
     "output_type": "execute_result"
    }
   ],
   "source": [
    "claimants = pd.read_csv(r\"C:\\Users\\excel\\DATA Science\\Datasets\\claimants.csv\")\n",
    "claimants.head()"
   ]
  },
  {
   "cell_type": "code",
   "execution_count": 3,
   "metadata": {},
   "outputs": [
    {
     "data": {
      "text/plain": [
       "(1340, 7)"
      ]
     },
     "execution_count": 3,
     "metadata": {},
     "output_type": "execute_result"
    }
   ],
   "source": [
    "claimants.shape"
   ]
  },
  {
   "cell_type": "code",
   "execution_count": 4,
   "metadata": {
    "collapsed": true,
    "jupyter": {
     "outputs_hidden": true
    }
   },
   "outputs": [
    {
     "data": {
      "text/plain": [
       "CASENUM     1283\n",
       "ATTORNEY       2\n",
       "CLMSEX         2\n",
       "CLMINSUR       2\n",
       "SEATBELT       2\n",
       "CLMAGE        68\n",
       "LOSS         916\n",
       "dtype: int64"
      ]
     },
     "execution_count": 4,
     "metadata": {},
     "output_type": "execute_result"
    }
   ],
   "source": [
    "claimants.nunique()"
   ]
  },
  {
   "cell_type": "code",
   "execution_count": 4,
   "metadata": {},
   "outputs": [
    {
     "data": {
      "text/plain": [
       "(1340, 7)"
      ]
     },
     "execution_count": 4,
     "metadata": {},
     "output_type": "execute_result"
    }
   ],
   "source": [
    "claimants.shape"
   ]
  },
  {
   "cell_type": "code",
   "execution_count": 5,
   "metadata": {
    "id": "RMhkK8ejgSee"
   },
   "outputs": [],
   "source": [
    "# Dropping the case number columns as it is not required\n",
    "claimants.drop([\"CASENUM\"], inplace=True, axis = 1)"
   ]
  },
  {
   "cell_type": "code",
   "execution_count": 6,
   "metadata": {
    "colab": {
     "base_uri": "https://localhost:8080/"
    },
    "executionInfo": {
     "elapsed": 8,
     "status": "ok",
     "timestamp": 1682765047616,
     "user": {
      "displayName": "Aparna apu",
      "userId": "16389552761110621802"
     },
     "user_tz": -330
    },
    "id": "1EqQiXUngSef",
    "outputId": "8ccd9365-ccc3-49af-e04f-33a0d3fd619f"
   },
   "outputs": [
    {
     "data": {
      "text/plain": [
       "(1340, 6)"
      ]
     },
     "execution_count": 6,
     "metadata": {},
     "output_type": "execute_result"
    }
   ],
   "source": [
    "#Shape of the data set\n",
    "claimants.shape"
   ]
  },
  {
   "cell_type": "code",
   "execution_count": null,
   "metadata": {},
   "outputs": [],
   "source": [
    "# Missing values"
   ]
  },
  {
   "cell_type": "code",
   "execution_count": 7,
   "metadata": {
    "collapsed": true,
    "jupyter": {
     "outputs_hidden": true
    }
   },
   "outputs": [
    {
     "data": {
      "text/plain": [
       "ATTORNEY      0\n",
       "CLMSEX       12\n",
       "CLMINSUR     41\n",
       "SEATBELT     48\n",
       "CLMAGE      189\n",
       "LOSS          0\n",
       "dtype: int64"
      ]
     },
     "execution_count": 7,
     "metadata": {},
     "output_type": "execute_result"
    }
   ],
   "source": [
    "claimants.isnull().sum()"
   ]
  },
  {
   "cell_type": "code",
   "execution_count": null,
   "metadata": {},
   "outputs": [],
   "source": [
    "claimants['CLMSEX'].value_counts()"
   ]
  },
  {
   "cell_type": "code",
   "execution_count": 8,
   "metadata": {
    "collapsed": true,
    "jupyter": {
     "outputs_hidden": true
    }
   },
   "outputs": [
    {
     "data": {
      "text/plain": [
       "ATTORNEY      int64\n",
       "CLMSEX      float64\n",
       "CLMINSUR    float64\n",
       "SEATBELT    float64\n",
       "CLMAGE      float64\n",
       "LOSS        float64\n",
       "dtype: object"
      ]
     },
     "execution_count": 8,
     "metadata": {},
     "output_type": "execute_result"
    }
   ],
   "source": [
    "claimants.dtypes"
   ]
  },
  {
   "cell_type": "code",
   "execution_count": 8,
   "metadata": {
    "colab": {
     "base_uri": "https://localhost:8080/"
    },
    "executionInfo": {
     "elapsed": 6,
     "status": "ok",
     "timestamp": 1682765047617,
     "user": {
      "displayName": "Aparna apu",
      "userId": "16389552761110621802"
     },
     "user_tz": -330
    },
    "id": "AFZPh9yqgSeg",
    "outputId": "1f8891e4-011f-4273-fb9b-252494abca98"
   },
   "outputs": [],
   "source": [
    "# Removing NA values in data set\n",
    "claimants = claimants.dropna()"
   ]
  },
  {
   "cell_type": "code",
   "execution_count": 9,
   "metadata": {},
   "outputs": [
    {
     "data": {
      "text/plain": [
       "(1096, 6)"
      ]
     },
     "execution_count": 9,
     "metadata": {},
     "output_type": "execute_result"
    }
   ],
   "source": [
    "claimants.shape"
   ]
  },
  {
   "cell_type": "code",
   "execution_count": 11,
   "metadata": {
    "collapsed": true,
    "jupyter": {
     "outputs_hidden": true
    }
   },
   "outputs": [
    {
     "data": {
      "text/plain": [
       "ATTORNEY    0\n",
       "CLMSEX      0\n",
       "CLMINSUR    0\n",
       "SEATBELT    0\n",
       "CLMAGE      0\n",
       "LOSS        0\n",
       "dtype: int64"
      ]
     },
     "execution_count": 11,
     "metadata": {},
     "output_type": "execute_result"
    }
   ],
   "source": [
    "claimants.isnull().sum()"
   ]
  },
  {
   "cell_type": "code",
   "execution_count": 12,
   "metadata": {
    "collapsed": true,
    "jupyter": {
     "outputs_hidden": true
    }
   },
   "outputs": [
    {
     "data": {
      "text/html": [
       "<div>\n",
       "<style scoped>\n",
       "    .dataframe tbody tr th:only-of-type {\n",
       "        vertical-align: middle;\n",
       "    }\n",
       "\n",
       "    .dataframe tbody tr th {\n",
       "        vertical-align: top;\n",
       "    }\n",
       "\n",
       "    .dataframe thead th {\n",
       "        text-align: right;\n",
       "    }\n",
       "</style>\n",
       "<table border=\"1\" class=\"dataframe\">\n",
       "  <thead>\n",
       "    <tr style=\"text-align: right;\">\n",
       "      <th></th>\n",
       "      <th>ATTORNEY</th>\n",
       "      <th>CLMSEX</th>\n",
       "      <th>CLMINSUR</th>\n",
       "      <th>SEATBELT</th>\n",
       "      <th>CLMAGE</th>\n",
       "      <th>LOSS</th>\n",
       "    </tr>\n",
       "  </thead>\n",
       "  <tbody>\n",
       "    <tr>\n",
       "      <th>0</th>\n",
       "      <td>0</td>\n",
       "      <td>0.0</td>\n",
       "      <td>1.0</td>\n",
       "      <td>0.0</td>\n",
       "      <td>50.0</td>\n",
       "      <td>34.940</td>\n",
       "    </tr>\n",
       "    <tr>\n",
       "      <th>1</th>\n",
       "      <td>1</td>\n",
       "      <td>1.0</td>\n",
       "      <td>0.0</td>\n",
       "      <td>0.0</td>\n",
       "      <td>18.0</td>\n",
       "      <td>0.891</td>\n",
       "    </tr>\n",
       "    <tr>\n",
       "      <th>2</th>\n",
       "      <td>1</td>\n",
       "      <td>0.0</td>\n",
       "      <td>1.0</td>\n",
       "      <td>0.0</td>\n",
       "      <td>5.0</td>\n",
       "      <td>0.330</td>\n",
       "    </tr>\n",
       "    <tr>\n",
       "      <th>3</th>\n",
       "      <td>0</td>\n",
       "      <td>0.0</td>\n",
       "      <td>1.0</td>\n",
       "      <td>1.0</td>\n",
       "      <td>31.0</td>\n",
       "      <td>0.037</td>\n",
       "    </tr>\n",
       "    <tr>\n",
       "      <th>4</th>\n",
       "      <td>1</td>\n",
       "      <td>0.0</td>\n",
       "      <td>1.0</td>\n",
       "      <td>0.0</td>\n",
       "      <td>30.0</td>\n",
       "      <td>0.038</td>\n",
       "    </tr>\n",
       "  </tbody>\n",
       "</table>\n",
       "</div>"
      ],
      "text/plain": [
       "   ATTORNEY  CLMSEX  CLMINSUR  SEATBELT  CLMAGE    LOSS\n",
       "0         0     0.0       1.0       0.0    50.0  34.940\n",
       "1         1     1.0       0.0       0.0    18.0   0.891\n",
       "2         1     0.0       1.0       0.0     5.0   0.330\n",
       "3         0     0.0       1.0       1.0    31.0   0.037\n",
       "4         1     0.0       1.0       0.0    30.0   0.038"
      ]
     },
     "execution_count": 12,
     "metadata": {},
     "output_type": "execute_result"
    }
   ],
   "source": [
    "claimants.head()"
   ]
  },
  {
   "cell_type": "markdown",
   "metadata": {},
   "source": [
    "# Checking with linear regression model"
   ]
  },
  {
   "cell_type": "code",
   "execution_count": 10,
   "metadata": {
    "collapsed": true,
    "id": "X_SHgA2UgSeg",
    "jupyter": {
     "outputs_hidden": true
    }
   },
   "outputs": [
    {
     "data": {
      "text/plain": [
       "0.06740699602264077"
      ]
     },
     "execution_count": 10,
     "metadata": {},
     "output_type": "execute_result"
    }
   ],
   "source": [
    "# Dividing our data into input and output variables\n",
    "X = claimants.iloc[:,1:]\n",
    "Y = claimants.iloc[:,0]\n",
    "#Linear regression and fit the model\n",
    "regressor = LinearRegression()\n",
    "regressor.fit(X,Y)\n",
    "regressor.score(X,Y)"
   ]
  },
  {
   "cell_type": "code",
   "execution_count": 14,
   "metadata": {
    "collapsed": true,
    "jupyter": {
     "outputs_hidden": true
    }
   },
   "outputs": [
    {
     "data": {
      "text/plain": [
       "((1096,), (1096, 5))"
      ]
     },
     "execution_count": 14,
     "metadata": {},
     "output_type": "execute_result"
    }
   ],
   "source": [
    "Y.shape, X.shape"
   ]
  },
  {
   "cell_type": "code",
   "execution_count": 14,
   "metadata": {
    "collapsed": true,
    "jupyter": {
     "outputs_hidden": true
    }
   },
   "outputs": [
    {
     "data": {
      "text/plain": [
       "321     1\n",
       "775     1\n",
       "1007    1\n",
       "205     0\n",
       "672     1\n",
       "       ..\n",
       "104     1\n",
       "815     0\n",
       "194     0\n",
       "470     0\n",
       "787     0\n",
       "Name: ATTORNEY, Length: 822, dtype: int64"
      ]
     },
     "execution_count": 14,
     "metadata": {},
     "output_type": "execute_result"
    }
   ],
   "source": [
    "y_train"
   ]
  },
  {
   "cell_type": "code",
   "execution_count": 11,
   "metadata": {},
   "outputs": [],
   "source": [
    "X_train, X_test, y_train, y_test = train_test_split(X, Y, test_size=0.25, random_state = 15)"
   ]
  },
  {
   "cell_type": "code",
   "execution_count": 12,
   "metadata": {},
   "outputs": [
    {
     "data": {
      "text/plain": [
       "((822, 5), (274, 5), (822,), (274,))"
      ]
     },
     "execution_count": 12,
     "metadata": {},
     "output_type": "execute_result"
    }
   ],
   "source": [
    "X_train.shape, X_test.shape, y_train.shape, y_test.shape"
   ]
  },
  {
   "cell_type": "code",
   "execution_count": 15,
   "metadata": {},
   "outputs": [
    {
     "data": {
      "text/plain": [
       "0.708029197080292"
      ]
     },
     "execution_count": 15,
     "metadata": {},
     "output_type": "execute_result"
    }
   ],
   "source": [
    "#Logistic regression and fit the model\n",
    "classifier = LogisticRegression()\n",
    "classifier.fit(X_train,y_train)\n",
    "classifier.score(X_train,y_train)"
   ]
  },
  {
   "cell_type": "code",
   "execution_count": 16,
   "metadata": {},
   "outputs": [
    {
     "data": {
      "text/plain": [
       "0.6970802919708029"
      ]
     },
     "execution_count": 16,
     "metadata": {},
     "output_type": "execute_result"
    }
   ],
   "source": [
    "classifier.score(X_test,y_test)"
   ]
  },
  {
   "cell_type": "code",
   "execution_count": 17,
   "metadata": {
    "collapsed": true,
    "id": "s0zRgneIgSej",
    "jupyter": {
     "outputs_hidden": true
    }
   },
   "outputs": [
    {
     "data": {
      "text/html": [
       "<div>\n",
       "<style scoped>\n",
       "    .dataframe tbody tr th:only-of-type {\n",
       "        vertical-align: middle;\n",
       "    }\n",
       "\n",
       "    .dataframe tbody tr th {\n",
       "        vertical-align: top;\n",
       "    }\n",
       "\n",
       "    .dataframe thead th {\n",
       "        text-align: right;\n",
       "    }\n",
       "</style>\n",
       "<table border=\"1\" class=\"dataframe\">\n",
       "  <thead>\n",
       "    <tr style=\"text-align: right;\">\n",
       "      <th></th>\n",
       "      <th>actual</th>\n",
       "      <th>predicted_prob</th>\n",
       "    </tr>\n",
       "  </thead>\n",
       "  <tbody>\n",
       "    <tr>\n",
       "      <th>321</th>\n",
       "      <td>1</td>\n",
       "      <td>1</td>\n",
       "    </tr>\n",
       "    <tr>\n",
       "      <th>775</th>\n",
       "      <td>1</td>\n",
       "      <td>0</td>\n",
       "    </tr>\n",
       "    <tr>\n",
       "      <th>1007</th>\n",
       "      <td>1</td>\n",
       "      <td>1</td>\n",
       "    </tr>\n",
       "    <tr>\n",
       "      <th>205</th>\n",
       "      <td>0</td>\n",
       "      <td>1</td>\n",
       "    </tr>\n",
       "    <tr>\n",
       "      <th>672</th>\n",
       "      <td>1</td>\n",
       "      <td>1</td>\n",
       "    </tr>\n",
       "  </tbody>\n",
       "</table>\n",
       "</div>"
      ],
      "text/plain": [
       "      actual  predicted_prob\n",
       "321        1               1\n",
       "775        1               0\n",
       "1007       1               1\n",
       "205        0               1\n",
       "672        1               1"
      ]
     },
     "execution_count": 17,
     "metadata": {},
     "output_type": "execute_result"
    }
   ],
   "source": [
    "y_pred = classifier.predict(X_train)\n",
    "y_pred_df= pd.DataFrame({'actual': y_train,'predicted_prob': y_pred})  \n",
    "y_pred_df.head()"
   ]
  },
  {
   "cell_type": "code",
   "execution_count": null,
   "metadata": {},
   "outputs": [],
   "source": [
    "y_train.shape,y_pred.shape"
   ]
  },
  {
   "cell_type": "code",
   "execution_count": 18,
   "metadata": {
    "id": "h4W52M5VgSem"
   },
   "outputs": [
    {
     "data": {
      "text/plain": [
       "array([[296, 150],\n",
       "       [ 90, 286]], dtype=int64)"
      ]
     },
     "execution_count": 18,
     "metadata": {},
     "output_type": "execute_result"
    }
   ],
   "source": [
    "# Confusion Matrix for the model accuracy\n",
    "confusion_mt = confusion_matrix(y_train,y_pred)\n",
    "confusion_mt"
   ]
  },
  {
   "cell_type": "code",
   "execution_count": 21,
   "metadata": {},
   "outputs": [
    {
     "data": {
      "text/plain": [
       "0.708029197080292"
      ]
     },
     "execution_count": 21,
     "metadata": {},
     "output_type": "execute_result"
    }
   ],
   "source": [
    "(296+286)/(296+150+90+286)"
   ]
  },
  {
   "cell_type": "code",
   "execution_count": 15,
   "metadata": {},
   "outputs": [
    {
     "name": "stdout",
     "output_type": "stream",
     "text": [
      "              precision    recall  f1-score   support\n",
      "\n",
      "           0       0.77      0.66      0.71       446\n",
      "           1       0.66      0.76      0.70       376\n",
      "\n",
      "    accuracy                           0.71       822\n",
      "   macro avg       0.71      0.71      0.71       822\n",
      "weighted avg       0.72      0.71      0.71       822\n",
      "\n"
     ]
    }
   ],
   "source": [
    "#Classification report\n",
    "print(classification_report(y_train,y_pred))"
   ]
  },
  {
   "cell_type": "code",
   "execution_count": 15,
   "metadata": {},
   "outputs": [
    {
     "name": "stdout",
     "output_type": "stream",
     "text": [
      "Accuracy: 0.708029197080292\n"
     ]
    }
   ],
   "source": [
    "print('Accuracy:',(296+286)/(296+150+90+286))"
   ]
  },
  {
   "cell_type": "code",
   "execution_count": null,
   "metadata": {
    "id": "6D5uhLDfgSen"
   },
   "outputs": [],
   "source": [
    "## Precision – What percent of your predictions were correct?\n",
    "## Recall – What percent of the positive cases did you catch?\n",
    "## F1 score – What percent of positive predictions were correct?"
   ]
  },
  {
   "cell_type": "code",
   "execution_count": 31,
   "metadata": {
    "collapsed": true,
    "id": "4ha5ZCdhhmNC",
    "jupyter": {
     "outputs_hidden": true
    }
   },
   "outputs": [
    {
     "data": {
      "text/plain": [
       "array([5.67484365e-01, 3.61993744e-01, 5.62835617e-01, 6.09333737e-01,\n",
       "       5.97982946e-01, 5.75703630e-01, 7.01627182e-01, 6.50009017e-01,\n",
       "       2.98854488e-01, 7.37686068e-01, 1.98798209e-01, 6.67970919e-01,\n",
       "       2.00604789e-01, 6.04776767e-01, 3.16223679e-01, 2.02379977e-06,\n",
       "       5.76135726e-01, 3.18212461e-01, 6.91754810e-01, 6.09736138e-01,\n",
       "       2.41134730e-01, 2.95531003e-01, 4.04863338e-02, 2.67020150e-01,\n",
       "       6.87220364e-01, 4.26395698e-01, 5.88317860e-01, 6.16638965e-01,\n",
       "       5.63461905e-01, 3.67034948e-01, 2.66154648e-01, 6.56750189e-01,\n",
       "       5.67912081e-01, 7.33933028e-01, 4.86727472e-01, 6.57187797e-01,\n",
       "       7.49618538e-01, 6.94657762e-01, 5.77572640e-01, 1.25032130e-01,\n",
       "       3.24755147e-01, 6.39058991e-01, 4.31295723e-01, 8.95387894e-02,\n",
       "       2.20080362e-01, 6.50894114e-01, 6.92932710e-01, 2.87586854e-01,\n",
       "       5.33145402e-01, 7.19610607e-01, 6.59442318e-01, 6.62019841e-01,\n",
       "       2.52941822e-01, 6.70217253e-01, 6.02669014e-01, 7.09906013e-14,\n",
       "       4.48759253e-01, 5.72560587e-01, 5.73815315e-01, 6.49864361e-01,\n",
       "       7.31957334e-01, 3.83974068e-01, 5.70646279e-01, 6.84509207e-01,\n",
       "       4.68974814e-01, 3.51934549e-01, 6.62503697e-01, 7.17222146e-01,\n",
       "       6.42924575e-01, 1.85252352e-03, 5.96781566e-01, 5.63461905e-01,\n",
       "       4.21594683e-01, 1.89776943e-01, 6.60733479e-08, 3.27048948e-01,\n",
       "       6.64760148e-01, 6.19870282e-01, 3.01964987e-01, 5.25187998e-01,\n",
       "       5.78246559e-01, 5.65567257e-01, 1.54716071e-01, 6.10599799e-01,\n",
       "       2.90578636e-01, 6.63142823e-01, 1.94377995e-01, 2.46505430e-01,\n",
       "       6.03832139e-01, 4.12159971e-01, 1.99613396e-01, 6.99113606e-01,\n",
       "       1.06391310e-07, 7.35057819e-01, 5.11479169e-01, 2.43198144e-01,\n",
       "       2.28406801e-02, 5.16368709e-01, 6.94659398e-01, 5.04884260e-01,\n",
       "       2.14932217e-01, 5.20119575e-01, 3.40063934e-01, 6.99420758e-01,\n",
       "       5.62717066e-01, 5.36525655e-01, 1.56512832e-09, 5.24805325e-01,\n",
       "       3.52460599e-01, 5.92826150e-01, 4.00221668e-01, 3.74273190e-01,\n",
       "       6.02035223e-01, 2.07441928e-01, 6.95608434e-01, 6.60260588e-01,\n",
       "       6.99762850e-01, 6.43791382e-01, 8.73778002e-02, 6.80821874e-01,\n",
       "       6.01870168e-01, 2.92212308e-01, 7.57743197e-02, 3.25833038e-01,\n",
       "       6.59342982e-01, 5.70873287e-02, 2.37464758e-01, 5.82161151e-01,\n",
       "       1.84036603e-01, 2.12598091e-01, 1.54321767e-01, 5.10690619e-01,\n",
       "       5.91989785e-01, 2.99445108e-01, 7.16254094e-01, 6.10854270e-01,\n",
       "       6.81257852e-01, 4.15165260e-01, 1.60430436e-01, 5.66818372e-01,\n",
       "       4.30129921e-01, 2.47034240e-01, 5.25190330e-01, 6.35595449e-01,\n",
       "       5.67125832e-01, 5.67844963e-01, 4.68096612e-01, 2.84286902e-01,\n",
       "       1.63197759e-01, 6.64185982e-01, 4.47706466e-01, 4.19200791e-01,\n",
       "       6.49459208e-01, 7.26169877e-01, 6.27360217e-01, 4.28077219e-01,\n",
       "       6.88560004e-01, 6.93808957e-01, 7.29647721e-01, 7.17124870e-01,\n",
       "       7.14101131e-01, 6.07263009e-01, 1.97349020e-01, 3.25312448e-01,\n",
       "       7.31120911e-01, 1.49610487e-01, 4.32886446e-01, 5.44174279e-01,\n",
       "       2.85816873e-01, 8.96115124e-02, 5.80919465e-01, 3.07182431e-01,\n",
       "       6.41738220e-01, 6.67477839e-01, 6.17360487e-01, 5.77818403e-01,\n",
       "       6.61355981e-01, 3.08523302e-01, 7.06677211e-01, 5.06102327e-01,\n",
       "       6.28466810e-01, 3.62769132e-01, 3.84961466e-01, 2.87952491e-01,\n",
       "       1.93891841e-01, 6.97125796e-01, 6.33675128e-01, 3.15541238e-01,\n",
       "       2.73801149e-01, 6.73711847e-01, 6.49864361e-01, 7.32146862e-01,\n",
       "       3.28306956e-01, 5.12484701e-01, 3.77721539e-01, 4.22289392e-01,\n",
       "       3.56015237e-01, 6.58470156e-01, 7.12376442e-01, 5.27242628e-01,\n",
       "       2.01807764e-01, 5.92231218e-01, 6.89659611e-01, 6.98220878e-01,\n",
       "       4.69972669e-01, 5.74830135e-01, 1.35431652e-01, 3.02614589e-07,\n",
       "       2.92670907e-01, 2.16745587e-01, 5.82264200e-01, 4.45181111e-01,\n",
       "       2.33764709e-01, 6.96243873e-01, 7.55140086e-01, 6.52063234e-01,\n",
       "       1.99566816e-01, 4.47994727e-01, 5.51416203e-01, 6.12396454e-01,\n",
       "       4.89180674e-01, 6.24248447e-01, 6.28487525e-01, 2.75086940e-01,\n",
       "       7.59058888e-01, 1.17476193e-01, 3.92961067e-01, 3.21896545e-01,\n",
       "       3.93637706e-01, 6.35638993e-01, 2.92229533e-01, 3.39331746e-01,\n",
       "       5.67342980e-01, 6.67458862e-01, 6.61285284e-01, 7.04074402e-01,\n",
       "       5.82399763e-01, 2.85368703e-01, 6.87048576e-01, 4.92161089e-01,\n",
       "       2.41630803e-01, 8.20731338e-02, 1.69333476e-02, 4.51309568e-01,\n",
       "       5.45671461e-01, 1.78031965e-01, 5.93235529e-01, 1.64765587e-01,\n",
       "       5.59595856e-01, 6.02869806e-01, 2.68557188e-01, 5.07278264e-01,\n",
       "       2.00344847e-01, 6.95004545e-01, 1.83598327e-01, 3.46301866e-01,\n",
       "       6.19949048e-01, 1.08660379e-01, 2.12868132e-01, 6.30282553e-01,\n",
       "       2.82825561e-01, 3.21867593e-01, 8.23497862e-02, 7.27685137e-01,\n",
       "       2.50088720e-01, 2.08554329e-01, 6.43041454e-01, 5.45545232e-01,\n",
       "       6.64568001e-01, 6.06543480e-01, 3.78412521e-01, 5.99235685e-01,\n",
       "       2.42581445e-01, 2.14364569e-01, 5.98146703e-01, 5.68986998e-01,\n",
       "       6.21475475e-01, 6.71052918e-01, 1.92600352e-01, 5.79461991e-01,\n",
       "       6.05377110e-01, 6.98063453e-01, 3.81825912e-01, 6.44946208e-01,\n",
       "       3.04893716e-01, 6.83288025e-01, 6.86236208e-01, 5.24682999e-01,\n",
       "       7.15638840e-01, 6.10245038e-01, 5.02030230e-01, 6.49629255e-01,\n",
       "       6.95658796e-01, 6.75894248e-01, 7.47046380e-01, 1.30926405e-01,\n",
       "       6.45991821e-01, 3.64441380e-01, 6.97398014e-01, 5.69390713e-01,\n",
       "       6.12062826e-02, 3.26140965e-01, 1.52186540e-01, 1.39248940e-01,\n",
       "       3.33147608e-01, 4.46012027e-01, 5.79084399e-01, 6.17567606e-01,\n",
       "       5.45835454e-01, 5.71835058e-01, 6.00647645e-01, 6.98355506e-01,\n",
       "       4.66562449e-01, 6.52300935e-01, 2.16029021e-19, 6.28968699e-01,\n",
       "       4.50498929e-01, 5.40456483e-01, 5.79551212e-01, 7.08401371e-01,\n",
       "       5.52321883e-01, 5.20145161e-01, 3.81908309e-01, 6.02051774e-01,\n",
       "       3.71258367e-01, 3.67728811e-02, 8.99643288e-02, 3.70274347e-01,\n",
       "       7.41404821e-01, 7.10212047e-01, 1.74580117e-01, 6.24138664e-01,\n",
       "       5.51149103e-01, 1.82659598e-01, 2.15054573e-01, 4.56249108e-01,\n",
       "       6.45669645e-01, 4.46800025e-01, 6.23887148e-01, 5.45794424e-01,\n",
       "       6.50431564e-01, 4.50777719e-02, 1.80107443e-01, 2.15748808e-01,\n",
       "       6.90338497e-01, 6.30243985e-01, 1.45508938e-01, 1.82373473e-01,\n",
       "       6.65716915e-01, 4.16311732e-01, 3.47101553e-01, 9.02109271e-02,\n",
       "       1.54961652e-01, 6.72025950e-01, 6.81400685e-02, 5.53805985e-01,\n",
       "       3.86516541e-01, 3.54386931e-01, 2.95227471e-01, 6.95895569e-01,\n",
       "       3.95121875e-01, 3.24584028e-01, 5.71459690e-01, 6.05786322e-01,\n",
       "       8.51748295e-02, 6.49224855e-01, 4.25251464e-01, 7.05507190e-01,\n",
       "       7.07805288e-01, 7.01694872e-01, 6.31183626e-01, 7.27490386e-06,\n",
       "       7.51445096e-01, 6.04205471e-01, 5.95344300e-02, 6.39429690e-01,\n",
       "       5.62926442e-03, 6.88416612e-01, 4.34302699e-01, 3.13639212e-01,\n",
       "       3.46714063e-06, 8.53026509e-17, 6.97619105e-01, 6.74535258e-01,\n",
       "       3.52665892e-01, 5.81884493e-01, 6.22228764e-01, 5.56793600e-01,\n",
       "       6.16004052e-01, 3.34152608e-01, 7.06349692e-01, 5.74454110e-01,\n",
       "       1.85723129e-01, 3.87963716e-01, 1.92477065e-01, 1.19736090e-01,\n",
       "       4.13983678e-01, 6.14736032e-01, 7.46086568e-01, 1.30478365e-01,\n",
       "       5.09528788e-01, 3.56374686e-01, 6.97068513e-01, 4.29416464e-01,\n",
       "       5.59250601e-01, 5.91069447e-01, 6.43123347e-01, 6.72020991e-01,\n",
       "       3.18929887e-01, 7.23360162e-01, 3.58150167e-01, 6.92542728e-01,\n",
       "       2.17412892e-01, 3.04690142e-01, 5.20864925e-01, 5.54510244e-01,\n",
       "       2.85749314e-01, 3.34803986e-01, 5.66399399e-01, 6.91172057e-01,\n",
       "       2.23834911e-01, 2.23369831e-10, 5.57746750e-01, 6.10874205e-01,\n",
       "       3.05199747e-01, 2.96089618e-01, 6.33061958e-01, 3.40214138e-01,\n",
       "       1.14043800e-01, 3.27827321e-01, 5.79890391e-01, 7.14952434e-01,\n",
       "       5.57694579e-01, 6.54687560e-01, 4.06922815e-01, 2.30041128e-01,\n",
       "       1.44321006e-01, 6.69373114e-01, 9.06545634e-02, 3.81561880e-02,\n",
       "       5.90307770e-01, 6.65983959e-01, 1.92635389e-01, 7.04997376e-01,\n",
       "       3.18370504e-01, 3.24141788e-01, 1.32802368e-05, 4.61671954e-01,\n",
       "       1.96947375e-01, 2.15880889e-01, 3.43117879e-03, 6.51363467e-01,\n",
       "       2.94846396e-01, 3.36372294e-01, 5.58063424e-02, 6.59812829e-01,\n",
       "       1.42836903e-07, 2.39916113e-01, 6.69241496e-01, 1.02795390e-01,\n",
       "       1.99268184e-01, 7.08134112e-01, 3.15150525e-01, 5.12451779e-02,\n",
       "       6.75280925e-01, 5.58283115e-01, 3.83307677e-01, 5.12935594e-01,\n",
       "       6.90922119e-01, 3.99235372e-01, 7.00272466e-01, 2.96584805e-01,\n",
       "       4.91350823e-02, 6.29303723e-01, 5.19031015e-01, 2.93173549e-01,\n",
       "       6.19275916e-01, 2.81927084e-01, 3.63672572e-01, 3.01159946e-01,\n",
       "       6.83607219e-01, 5.23795017e-01, 6.95486457e-01, 6.36847416e-01,\n",
       "       5.78267953e-01, 5.52425118e-03, 2.89029204e-01, 6.65164180e-01,\n",
       "       6.93176958e-01, 6.23523378e-01, 6.49356019e-01, 7.05134936e-01,\n",
       "       5.66672358e-01, 2.33925444e-01, 7.06630969e-01, 5.27668709e-01,\n",
       "       3.95096062e-01, 6.72463206e-01, 7.01318224e-01, 5.15792062e-01,\n",
       "       3.25781997e-01, 2.16083294e-01, 7.01172633e-01, 6.09313913e-01,\n",
       "       7.15202997e-01, 5.91560684e-01, 2.54080843e-01, 5.87667804e-01,\n",
       "       6.88924113e-01, 4.14206145e-01, 5.96364746e-01, 6.87451222e-01,\n",
       "       6.05151872e-01, 1.65608664e-01, 6.55123433e-01, 6.90679212e-01,\n",
       "       6.59895363e-01, 8.07407274e-02, 3.60052793e-01, 3.07379692e-01,\n",
       "       6.15928860e-01, 5.76922768e-01, 6.88300555e-01, 6.42896010e-01,\n",
       "       3.77513373e-01, 6.36138453e-01, 1.66651389e-01, 1.54211222e-01,\n",
       "       7.03136605e-01, 3.93497207e-01, 6.68989713e-01, 2.33608094e-07,\n",
       "       6.42435988e-01, 3.96597875e-01, 3.73776723e-01, 2.90645185e-01,\n",
       "       7.01172633e-01, 5.68619755e-01, 7.04185161e-01, 5.19367286e-01,\n",
       "       6.37502980e-01, 4.43193446e-01, 3.07680348e-01, 2.70551154e-01,\n",
       "       6.30019538e-01, 5.67351186e-01, 3.33087341e-01, 5.65588264e-01,\n",
       "       6.27582099e-01, 6.38988701e-01, 5.97918520e-01, 6.22561086e-01,\n",
       "       3.07251483e-01, 6.24304760e-01, 5.68986998e-01, 3.89591267e-01,\n",
       "       2.22949698e-01, 1.10855460e-01, 2.62325612e-01, 6.31910047e-01,\n",
       "       6.27061818e-09, 6.45609702e-01, 6.89253016e-01, 6.67287184e-01,\n",
       "       7.34773273e-01, 6.50973073e-01, 4.66225136e-01, 2.28439106e-02,\n",
       "       6.69819562e-01, 2.91808477e-01, 6.97891885e-01, 5.67274493e-01,\n",
       "       5.50383641e-01, 3.39859674e-01, 5.57446074e-01, 5.77868272e-01,\n",
       "       5.53974453e-01, 6.94503246e-01, 3.84420504e-01, 9.06545634e-02,\n",
       "       5.34773131e-01, 5.20937281e-01, 6.54371165e-01, 6.70741924e-01,\n",
       "       6.94043397e-01, 5.99998575e-01, 2.79488157e-01, 6.03888507e-01,\n",
       "       4.23715870e-01, 2.26130807e-01, 6.00466749e-01, 5.93710361e-01,\n",
       "       6.39997107e-01, 7.47613400e-01, 6.46457427e-01, 6.94993507e-01,\n",
       "       9.03917305e-02, 3.99560756e-01, 1.40073558e-01, 3.41870733e-01,\n",
       "       1.84532893e-01, 7.01267588e-01, 6.94625444e-01, 6.15302718e-01,\n",
       "       5.80510455e-01, 4.13407954e-01, 6.04063257e-01, 6.50728960e-01,\n",
       "       6.65673851e-01, 6.71487054e-02, 1.21557791e-01, 5.51537536e-02,\n",
       "       6.94165697e-01, 4.10349562e-01, 3.33445246e-01, 4.55125982e-01,\n",
       "       2.21793373e-01, 6.49922234e-10, 6.92556142e-01, 3.82654296e-01,\n",
       "       4.21853032e-01, 5.46756133e-02, 6.23081869e-01, 3.23409094e-01,\n",
       "       2.91169867e-01, 6.44157287e-01, 5.40371946e-01, 7.27998023e-01,\n",
       "       5.37493145e-01, 6.09600510e-01, 3.31637944e-01, 6.03925484e-01,\n",
       "       3.39218718e-01, 7.03789423e-01, 6.36551906e-02, 5.77196316e-01,\n",
       "       4.81502904e-01, 8.63028756e-04, 5.98658143e-01, 2.75895136e-01,\n",
       "       2.17837478e-01, 6.61268580e-01, 2.68150436e-01, 3.66904574e-01,\n",
       "       5.23104354e-01, 1.76236255e-01, 4.71167676e-01, 6.64782497e-01,\n",
       "       4.31705902e-01, 4.80269096e-01, 4.78456592e-01, 4.87018972e-01,\n",
       "       7.10770073e-01, 4.30439347e-01, 5.70703210e-01, 1.33483948e-01,\n",
       "       6.54375752e-01, 6.36676798e-01, 5.42936898e-01, 5.02887796e-01,\n",
       "       4.71010219e-01, 7.03113390e-01, 5.45521324e-01, 7.22568944e-01,\n",
       "       5.74456728e-02, 6.56585974e-01, 5.09019812e-01, 6.13119662e-01,\n",
       "       7.02918635e-01, 5.95726997e-12, 5.15387718e-01, 4.16080291e-01,\n",
       "       3.09090888e-01, 1.26266509e-01, 3.86715152e-01, 2.98854488e-01,\n",
       "       5.55642338e-01, 6.43255540e-01, 6.89601544e-01, 1.89425194e-01,\n",
       "       1.83469157e-01, 1.05546636e-01, 5.69035642e-01, 9.60265225e-02,\n",
       "       5.67358444e-01, 6.91297327e-01, 2.48498516e-01, 1.45722154e-01,\n",
       "       5.11659644e-01, 5.43676944e-01, 4.75400958e-01, 3.05764748e-01,\n",
       "       5.90849382e-01, 3.77263683e-01, 2.49059710e-01, 5.89138478e-01,\n",
       "       3.10397889e-01, 2.26320643e-06, 2.01720598e-02, 2.48901995e-01,\n",
       "       5.63715051e-01, 4.34994384e-01, 6.81133459e-01, 3.05632029e-01,\n",
       "       3.29940392e-01, 2.36427866e-01, 6.11218218e-01, 7.34770392e-01,\n",
       "       5.57045424e-01, 3.57978839e-01, 6.05980666e-01, 4.37519652e-01,\n",
       "       4.01720395e-01, 3.49466028e-01, 6.73348273e-01, 6.97059824e-01,\n",
       "       4.03217143e-01, 6.59416475e-01, 6.68983876e-01, 1.84544002e-03,\n",
       "       6.28046713e-01, 5.62659219e-01, 5.45653111e-01, 6.99469140e-01,\n",
       "       2.68690493e-01, 5.60981209e-01, 3.31584368e-01, 9.33095255e-02,\n",
       "       6.48129719e-01, 3.86284217e-01, 3.03314018e-01, 4.79487052e-01,\n",
       "       3.93952227e-01, 4.24518241e-01, 6.59370561e-01, 8.74120741e-02,\n",
       "       6.16068222e-01, 5.59425936e-01, 5.94548644e-01, 6.12584047e-01,\n",
       "       4.42745961e-01, 5.79969165e-01, 6.05178208e-01, 5.99759537e-01,\n",
       "       9.04534868e-02, 5.70346671e-01, 3.13951013e-01, 2.77741986e-01,\n",
       "       3.57113191e-01, 6.56241480e-01, 5.51147767e-01, 3.00109037e-01,\n",
       "       5.03688753e-01, 5.43615220e-01, 3.47959423e-01, 7.10896136e-01,\n",
       "       6.59199439e-01, 2.82574284e-01, 2.20552501e-01, 6.35871757e-01,\n",
       "       2.86810121e-01, 4.47014352e-01, 5.44792687e-02, 1.82532890e-01,\n",
       "       4.77631437e-01, 3.78493726e-01, 6.71040572e-01, 4.08250659e-01,\n",
       "       5.70766998e-01, 4.59506123e-01, 5.38062192e-01, 3.78137201e-01,\n",
       "       2.22691259e-01, 2.01563248e-01, 7.21783047e-01, 8.22437252e-03,\n",
       "       6.59529948e-01, 3.84028894e-01, 3.57635540e-01, 6.51444486e-01,\n",
       "       3.53550490e-01, 6.52552115e-01, 4.19086970e-01, 7.02638387e-01,\n",
       "       3.19157778e-01, 7.09621989e-01, 6.01397153e-01, 5.54405906e-03,\n",
       "       7.44815103e-01, 6.60683128e-01, 5.64082860e-01, 5.98403033e-01,\n",
       "       2.53112227e-01, 6.79301728e-01, 5.81579782e-01, 4.96694623e-01,\n",
       "       1.38176678e-01, 6.64151998e-01, 7.84309988e-02, 6.64981666e-01,\n",
       "       5.54106162e-02, 5.50160522e-01, 7.19076401e-01, 5.97466762e-01,\n",
       "       5.50399232e-01, 6.26420059e-01, 6.49580235e-01, 7.04671843e-01,\n",
       "       2.82208993e-01, 4.15084095e-01, 2.87179978e-01, 2.26140394e-01,\n",
       "       6.47381787e-01, 6.08126021e-01, 3.56054182e-01, 3.54338280e-01,\n",
       "       2.81897022e-01, 5.56333716e-01, 3.59050852e-01, 6.73664504e-01,\n",
       "       3.02626768e-01, 4.05770866e-09])"
      ]
     },
     "execution_count": 31,
     "metadata": {},
     "output_type": "execute_result"
    }
   ],
   "source": [
    "y_predict_prob = classifier.predict_proba(X_train)[:,1]\n",
    "y_predict_prob"
   ]
  },
  {
   "cell_type": "markdown",
   "metadata": {
    "id": "G7gpJaDsgSen"
   },
   "source": [
    "#### ROC Curve"
   ]
  },
  {
   "cell_type": "code",
   "execution_count": 32,
   "metadata": {
    "collapsed": true,
    "id": "Rxi9EzrbgSeo",
    "jupyter": {
     "outputs_hidden": true
    }
   },
   "outputs": [
    {
     "data": {
      "text/plain": [
       "0.7121577139585916"
      ]
     },
     "execution_count": 32,
     "metadata": {},
     "output_type": "execute_result"
    }
   ],
   "source": [
    "# fpr: false positive rate, tpr: True positive rate.\n",
    "from sklearn.metrics import roc_curve,roc_auc_score\n",
    "fpr, tpr, thresholds = roc_curve(y_train, y_predict_prob)\n",
    "auc = roc_auc_score(y_train, y_pred)\n",
    "auc"
   ]
  },
  {
   "cell_type": "code",
   "execution_count": 33,
   "metadata": {
    "collapsed": true,
    "jupyter": {
     "outputs_hidden": true
    }
   },
   "outputs": [
    {
     "data": {
      "image/png": "[encoded data removed]",
      "text/plain": [
       "<Figure size 640x480 with 1 Axes>"
      ]
     },
     "metadata": {},
     "output_type": "display_data"
    }
   ],
   "source": [
    "import matplotlib.pyplot as plt\n",
    "plt.plot(fpr, tpr, color='red', label='logit model ( area  = %0.2f)'%auc)\n",
    "plt.plot([0, 1], [0, 1], 'k--')\n",
    "plt.xlabel('False Positive Rate or [1 - True Negative Rate]')\n",
    "plt.ylabel('True Positive Rate')\n",
    "plt.legend()\n",
    "plt.show()"
   ]
  },
  {
   "cell_type": "code",
   "execution_count": 26,
   "metadata": {},
   "outputs": [
    {
     "data": {
      "text/plain": [
       "'C:\\\\Users\\\\excel\\\\DATA Science\\\\Machine Learning'"
      ]
     },
     "execution_count": 26,
     "metadata": {},
     "output_type": "execute_result"
    }
   ],
   "source": [
    "import os\n",
    "os.getcwd()"
   ]
  },
  {
   "cell_type": "code",
   "execution_count": 34,
   "metadata": {},
   "outputs": [],
   "source": [
    "# save the model to disk\n",
    "import pickle\n",
    "filename = 'finalized_model.sav'\n",
    "pickle.dump(classifier, open(filename, 'wb')) # wb write binary mode"
   ]
  },
  {
   "cell_type": "markdown",
   "metadata": {},
   "source": [
    "# evaluation "
   ]
  },
  {
   "cell_type": "code",
   "execution_count": 37,
   "metadata": {},
   "outputs": [],
   "source": [
    "clf = pickle.load(open('finalized_model.sav', 'rb')) # rb read binary mode"
   ]
  },
  {
   "cell_type": "code",
   "execution_count": 48,
   "metadata": {
    "collapsed": true,
    "jupyter": {
     "outputs_hidden": true
    }
   },
   "outputs": [
    {
     "name": "stderr",
     "output_type": "stream",
     "text": [
      "C:\\Users\\excel\\AppData\\Roaming\\Python\\Python311\\site-packages\\sklearn\\base.py:493: UserWarning: X does not have valid feature names, but LogisticRegression was fitted with feature names\n",
      "  warnings.warn(\n"
     ]
    },
    {
     "data": {
      "text/plain": [
       "array([1], dtype=int64)"
      ]
     },
     "execution_count": 48,
     "metadata": {},
     "output_type": "execute_result"
    }
   ],
   "source": [
    "X = [[0,1,1,26,0]]\n",
    "y_pred = clf.predict(X)\n",
    "y_pred"
   ]
  },
  {
   "cell_type": "code",
   "execution_count": 44,
   "metadata": {},
   "outputs": [],
   "source": [
    "y_pred1 = clf.predict(X_test)\n",
    "y_pred1"
   ]
  },
  {
   "cell_type": "code",
   "execution_count": 46,
   "metadata": {},
   "outputs": [
    {
     "data": {
      "text/plain": [
       "0.6970802919708029"
      ]
     },
     "execution_count": 46,
     "metadata": {},
     "output_type": "execute_result"
    }
   ],
   "source": [
    "clf.score(X_test,y_test)"
   ]
  },
  {
   "cell_type": "code",
   "execution_count": 49,
   "metadata": {
    "collapsed": true,
    "jupyter": {
     "outputs_hidden": true
    }
   },
   "outputs": [
    {
     "name": "stdout",
     "output_type": "stream",
     "text": [
      "              precision    recall  f1-score   support\n",
      "\n",
      "           0       0.70      0.65      0.67       132\n",
      "           1       0.70      0.74      0.72       142\n",
      "\n",
      "    accuracy                           0.70       274\n",
      "   macro avg       0.70      0.70      0.70       274\n",
      "weighted avg       0.70      0.70      0.70       274\n",
      "\n"
     ]
    }
   ],
   "source": [
    "print(classification_report(y_test,y_pred1))"
   ]
  },
  {
   "cell_type": "code",
   "execution_count": null,
   "metadata": {},
   "outputs": [],
   "source": [
    "import os\n",
    "os.listdir()"
   ]
  },
  {
   "cell_type": "markdown",
   "metadata": {},
   "source": [
    "# Multinomial logistic regression"
   ]
  },
  {
   "cell_type": "code",
   "execution_count": null,
   "metadata": {},
   "outputs": [],
   "source": [
    "Description Of Data: \n",
    "The data is sourced from study of Abalone in Tasmania. \n",
    "It can be found at the UCI Machine Learning Repository.\n",
    "The dataset contains 4,177 observations and 9 variables. \n",
    "\n",
    "SEX = M (male), F (female), I (infant) \n",
    "\n",
    "LENGTH = Longest shell length in mm \n",
    "\n",
    "DIAM = Diameter perpendicular to length in mm \n",
    "\n",
    "HEIGHT = Height perpendicular to length and diameter in mm \n",
    "\n",
    "WHOLE = Whole weight of abalone in grams \n",
    "\n",
    "SHUCK = Shucked weight of meat in grams \n",
    "\n",
    "VISCERA = Viscera weight in grams \n",
    "\n",
    "SHELL = Shell weight after drying in grams \n",
    "\n",
    "RINGS = Age (+1.5 gives the age in years) \n",
    "\n",
    "There are 9 variables of which the first - SEX - will be used as the dependent variable.   \n",
    " Additional Information\n",
    "\n",
    "Predicting the age of abalone from physical measurements.  \n",
    "The age of abalone is determined by cutting the shell through the cone, staining it, \n",
    "and counting the number of rings through a microscope -- a boring and time-consuming task.  \n",
    "Other measurements, which are easier to obtain, are used to predict the age.  \n",
    "Further information, such as weather patterns and location \n",
    "(hence food availability) may be required to solve the problem.\n",
    "\n"
   ]
  },
  {
   "cell_type": "code",
   "execution_count": 50,
   "metadata": {
    "collapsed": true,
    "jupyter": {
     "outputs_hidden": true
    }
   },
   "outputs": [
    {
     "data": {
      "text/html": [
       "<div>\n",
       "<style scoped>\n",
       "    .dataframe tbody tr th:only-of-type {\n",
       "        vertical-align: middle;\n",
       "    }\n",
       "\n",
       "    .dataframe tbody tr th {\n",
       "        vertical-align: top;\n",
       "    }\n",
       "\n",
       "    .dataframe thead th {\n",
       "        text-align: right;\n",
       "    }\n",
       "</style>\n",
       "<table border=\"1\" class=\"dataframe\">\n",
       "  <thead>\n",
       "    <tr style=\"text-align: right;\">\n",
       "      <th></th>\n",
       "      <th>Sex</th>\n",
       "      <th>Length</th>\n",
       "      <th>Diameter</th>\n",
       "      <th>Height</th>\n",
       "      <th>Whole weight</th>\n",
       "      <th>Shucked weight</th>\n",
       "      <th>Viscera weight</th>\n",
       "      <th>Shell weight</th>\n",
       "      <th>Rings</th>\n",
       "    </tr>\n",
       "  </thead>\n",
       "  <tbody>\n",
       "    <tr>\n",
       "      <th>0</th>\n",
       "      <td>M</td>\n",
       "      <td>0.455</td>\n",
       "      <td>0.365</td>\n",
       "      <td>0.095</td>\n",
       "      <td>0.5140</td>\n",
       "      <td>0.2245</td>\n",
       "      <td>0.1010</td>\n",
       "      <td>0.150</td>\n",
       "      <td>15</td>\n",
       "    </tr>\n",
       "    <tr>\n",
       "      <th>1</th>\n",
       "      <td>M</td>\n",
       "      <td>0.350</td>\n",
       "      <td>0.265</td>\n",
       "      <td>0.090</td>\n",
       "      <td>0.2255</td>\n",
       "      <td>0.0995</td>\n",
       "      <td>0.0485</td>\n",
       "      <td>0.070</td>\n",
       "      <td>7</td>\n",
       "    </tr>\n",
       "    <tr>\n",
       "      <th>2</th>\n",
       "      <td>F</td>\n",
       "      <td>0.530</td>\n",
       "      <td>0.420</td>\n",
       "      <td>0.135</td>\n",
       "      <td>0.6770</td>\n",
       "      <td>0.2565</td>\n",
       "      <td>0.1415</td>\n",
       "      <td>0.210</td>\n",
       "      <td>9</td>\n",
       "    </tr>\n",
       "    <tr>\n",
       "      <th>3</th>\n",
       "      <td>M</td>\n",
       "      <td>0.440</td>\n",
       "      <td>0.365</td>\n",
       "      <td>0.125</td>\n",
       "      <td>0.5160</td>\n",
       "      <td>0.2155</td>\n",
       "      <td>0.1140</td>\n",
       "      <td>0.155</td>\n",
       "      <td>10</td>\n",
       "    </tr>\n",
       "    <tr>\n",
       "      <th>4</th>\n",
       "      <td>I</td>\n",
       "      <td>0.330</td>\n",
       "      <td>0.255</td>\n",
       "      <td>0.080</td>\n",
       "      <td>0.2050</td>\n",
       "      <td>0.0895</td>\n",
       "      <td>0.0395</td>\n",
       "      <td>0.055</td>\n",
       "      <td>7</td>\n",
       "    </tr>\n",
       "  </tbody>\n",
       "</table>\n",
       "</div>"
      ],
      "text/plain": [
       "  Sex  Length  Diameter  Height  Whole weight  Shucked weight  Viscera weight  \\\n",
       "0   M   0.455     0.365   0.095        0.5140          0.2245          0.1010   \n",
       "1   M   0.350     0.265   0.090        0.2255          0.0995          0.0485   \n",
       "2   F   0.530     0.420   0.135        0.6770          0.2565          0.1415   \n",
       "3   M   0.440     0.365   0.125        0.5160          0.2155          0.1140   \n",
       "4   I   0.330     0.255   0.080        0.2050          0.0895          0.0395   \n",
       "\n",
       "   Shell weight  Rings  \n",
       "0         0.150     15  \n",
       "1         0.070      7  \n",
       "2         0.210      9  \n",
       "3         0.155     10  \n",
       "4         0.055      7  "
      ]
     },
     "execution_count": 50,
     "metadata": {},
     "output_type": "execute_result"
    }
   ],
   "source": [
    "#read the dataset\n",
    "import pandas as pd\n",
    "abalone_df = pd.read_csv(r\"C:\\Users\\excel\\DATA Science\\Datasets\\abalone.csv\") \n",
    "abalone_df.head()"
   ]
  },
  {
   "cell_type": "code",
   "execution_count": 52,
   "metadata": {
    "collapsed": true,
    "jupyter": {
     "outputs_hidden": true
    }
   },
   "outputs": [
    {
     "data": {
      "text/plain": [
       "Sex               4177\n",
       "Length            4177\n",
       "Diameter          4177\n",
       "Height            4177\n",
       "Whole weight      4177\n",
       "Shucked weight    4177\n",
       "Viscera weight    4177\n",
       "Shell weight      4177\n",
       "Rings             4177\n",
       "dtype: int64"
      ]
     },
     "execution_count": 52,
     "metadata": {},
     "output_type": "execute_result"
    }
   ],
   "source": [
    "abalone_df.count()"
   ]
  },
  {
   "cell_type": "code",
   "execution_count": 51,
   "metadata": {
    "collapsed": true,
    "jupyter": {
     "outputs_hidden": true
    }
   },
   "outputs": [
    {
     "name": "stdout",
     "output_type": "stream",
     "text": [
      "Sex\n",
      "M    1528\n",
      "I    1342\n",
      "F    1307\n",
      "Name: count, dtype: int64\n"
     ]
    }
   ],
   "source": [
    "#We are now ready to partition the dataset:\n",
    "Abalone_sex = abalone_df['Sex'].value_counts()\n",
    "print(Abalone_sex)"
   ]
  },
  {
   "cell_type": "code",
   "execution_count": 30,
   "metadata": {},
   "outputs": [
    {
     "data": {
      "text/plain": [
       "(4177, 9)"
      ]
     },
     "execution_count": 30,
     "metadata": {},
     "output_type": "execute_result"
    }
   ],
   "source": [
    "abalone_df.shape"
   ]
  },
  {
   "cell_type": "code",
   "execution_count": 53,
   "metadata": {
    "collapsed": true,
    "jupyter": {
     "outputs_hidden": true
    }
   },
   "outputs": [
    {
     "data": {
      "text/plain": [
       "Sex               0\n",
       "Length            0\n",
       "Diameter          0\n",
       "Height            0\n",
       "Whole weight      0\n",
       "Shucked weight    0\n",
       "Viscera weight    0\n",
       "Shell weight      0\n",
       "Rings             0\n",
       "dtype: int64"
      ]
     },
     "execution_count": 53,
     "metadata": {},
     "output_type": "execute_result"
    }
   ],
   "source": [
    "abalone_df.isnull().sum()"
   ]
  },
  {
   "cell_type": "code",
   "execution_count": 56,
   "metadata": {
    "collapsed": true,
    "jupyter": {
     "outputs_hidden": true
    }
   },
   "outputs": [
    {
     "name": "stdout",
     "output_type": "stream",
     "text": [
      "Sex\n",
      "M    1528\n",
      "I    1342\n",
      "F    1307\n",
      "Name: count, dtype: int64\n"
     ]
    }
   ],
   "source": [
    "#Create training and test datasets\n",
    "X = abalone_df.drop(['Sex'], axis=1) \n",
    "y = abalone_df['Sex']\n",
    "print(y.value_counts()) "
   ]
  },
  {
   "cell_type": "code",
   "execution_count": 57,
   "metadata": {},
   "outputs": [],
   "source": [
    "y = y.astype('category').cat.codes"
   ]
  },
  {
   "cell_type": "code",
   "execution_count": 58,
   "metadata": {
    "collapsed": true,
    "jupyter": {
     "outputs_hidden": true
    }
   },
   "outputs": [
    {
     "data": {
      "text/plain": [
       "2    1528\n",
       "1    1342\n",
       "0    1307\n",
       "Name: count, dtype: int64"
      ]
     },
     "execution_count": 58,
     "metadata": {},
     "output_type": "execute_result"
    }
   ],
   "source": [
    "y.value_counts()"
   ]
  },
  {
   "cell_type": "code",
   "execution_count": 59,
   "metadata": {
    "collapsed": true,
    "jupyter": {
     "outputs_hidden": true
    }
   },
   "outputs": [
    {
     "name": "stdout",
     "output_type": "stream",
     "text": [
      "(3341, 8)\n",
      "(836, 8)\n",
      "(3341,)\n",
      "(836,)\n"
     ]
    }
   ],
   "source": [
    "X_train_ab, X_test_ab, y_train_ab, y_test_ab = train_test_split(X, y, test_size = 0.20, \n",
    "                                                                random_state = 5)\n",
    "print(X_train_ab.shape)\n",
    "print(X_test_ab.shape)\n",
    "print(y_train_ab.shape)\n",
    "print(y_test_ab.shape)"
   ]
  },
  {
   "cell_type": "code",
   "execution_count": 60,
   "metadata": {
    "collapsed": true,
    "jupyter": {
     "outputs_hidden": true
    }
   },
   "outputs": [
    {
     "data": {
      "text/html": [
       "<style>#sk-container-id-1 {\n",
       "  /* Definition of color scheme common for light and dark mode */\n",
       "  --sklearn-color-text: black;\n",
       "  --sklearn-color-line: gray;\n",
       "  /* Definition of color scheme for unfitted estimators */\n",
       "  --sklearn-color-unfitted-level-0: #fff5e6;\n",
       "  --sklearn-color-unfitted-level-1: #f6e4d2;\n",
       "  --sklearn-color-unfitted-level-2: #ffe0b3;\n",
       "  --sklearn-color-unfitted-level-3: chocolate;\n",
       "  /* Definition of color scheme for fitted estimators */\n",
       "  --sklearn-color-fitted-level-0: #f0f8ff;\n",
       "  --sklearn-color-fitted-level-1: #d4ebff;\n",
       "  --sklearn-color-fitted-level-2: #b3dbfd;\n",
       "  --sklearn-color-fitted-level-3: cornflowerblue;\n",
       "\n",
       "  /* Specific color for light theme */\n",
       "  --sklearn-color-text-on-default-background: var(--sg-text-color, var(--theme-code-foreground, var(--jp-content-font-color1, black)));\n",
       "  --sklearn-color-background: var(--sg-background-color, var(--theme-background, var(--jp-layout-color0, white)));\n",
       "  --sklearn-color-border-box: var(--sg-text-color, var(--theme-code-foreground, var(--jp-content-font-color1, black)));\n",
       "  --sklearn-color-icon: #696969;\n",
       "\n",
       "  @media (prefers-color-scheme: dark) {\n",
       "    /* Redefinition of color scheme for dark theme */\n",
       "    --sklearn-color-text-on-default-background: var(--sg-text-color, var(--theme-code-foreground, var(--jp-content-font-color1, white)));\n",
       "    --sklearn-color-background: var(--sg-background-color, var(--theme-background, var(--jp-layout-color0, #111)));\n",
       "    --sklearn-color-border-box: var(--sg-text-color, var(--theme-code-foreground, var(--jp-content-font-color1, white)));\n",
       "    --sklearn-color-icon: #878787;\n",
       "  }\n",
       "}\n",
       "\n",
       "#sk-container-id-1 {\n",
       "  color: var(--sklearn-color-text);\n",
       "}\n",
       "\n",
       "#sk-container-id-1 pre {\n",
       "  padding: 0;\n",
       "}\n",
       "\n",
       "#sk-container-id-1 input.sk-hidden--visually {\n",
       "  border: 0;\n",
       "  clip: rect(1px 1px 1px 1px);\n",
       "  clip: rect(1px, 1px, 1px, 1px);\n",
       "  height: 1px;\n",
       "  margin: -1px;\n",
       "  overflow: hidden;\n",
       "  padding: 0;\n",
       "  position: absolute;\n",
       "  width: 1px;\n",
       "}\n",
       "\n",
       "#sk-container-id-1 div.sk-dashed-wrapped {\n",
       "  border: 1px dashed var(--sklearn-color-line);\n",
       "  margin: 0 0.4em 0.5em 0.4em;\n",
       "  box-sizing: border-box;\n",
       "  padding-bottom: 0.4em;\n",
       "  background-color: var(--sklearn-color-background);\n",
       "}\n",
       "\n",
       "#sk-container-id-1 div.sk-container {\n",
       "  /* jupyter's `normalize.less` sets `[hidden] { display: none; }`\n",
       "     but bootstrap.min.css set `[hidden] { display: none !important; }`\n",
       "     so we also need the `!important` here to be able to override the\n",
       "     default hidden behavior on the sphinx rendered scikit-learn.org.\n",
       "     See: https://github.com/scikit-learn/scikit-learn/issues/21755 */\n",
       "  display: inline-block !important;\n",
       "  position: relative;\n",
       "}\n",
       "\n",
       "#sk-container-id-1 div.sk-text-repr-fallback {\n",
       "  display: none;\n",
       "}\n",
       "\n",
       "div.sk-parallel-item,\n",
       "div.sk-serial,\n",
       "div.sk-item {\n",
       "  /* draw centered vertical line to link estimators */\n",
       "  background-image: linear-gradient(var(--sklearn-color-text-on-default-background), var(--sklearn-color-text-on-default-background));\n",
       "  background-size: 2px 100%;\n",
       "  background-repeat: no-repeat;\n",
       "  background-position: center center;\n",
       "}\n",
       "\n",
       "/* Parallel-specific style estimator block */\n",
       "\n",
       "#sk-container-id-1 div.sk-parallel-item::after {\n",
       "  content: \"\";\n",
       "  width: 100%;\n",
       "  border-bottom: 2px solid var(--sklearn-color-text-on-default-background);\n",
       "  flex-grow: 1;\n",
       "}\n",
       "\n",
       "#sk-container-id-1 div.sk-parallel {\n",
       "  display: flex;\n",
       "  align-items: stretch;\n",
       "  justify-content: center;\n",
       "  background-color: var(--sklearn-color-background);\n",
       "  position: relative;\n",
       "}\n",
       "\n",
       "#sk-container-id-1 div.sk-parallel-item {\n",
       "  display: flex;\n",
       "  flex-direction: column;\n",
       "}\n",
       "\n",
       "#sk-container-id-1 div.sk-parallel-item:first-child::after {\n",
       "  align-self: flex-end;\n",
       "  width: 50%;\n",
       "}\n",
       "\n",
       "#sk-container-id-1 div.sk-parallel-item:last-child::after {\n",
       "  align-self: flex-start;\n",
       "  width: 50%;\n",
       "}\n",
       "\n",
       "#sk-container-id-1 div.sk-parallel-item:only-child::after {\n",
       "  width: 0;\n",
       "}\n",
       "\n",
       "/* Serial-specific style estimator block */\n",
       "\n",
       "#sk-container-id-1 div.sk-serial {\n",
       "  display: flex;\n",
       "  flex-direction: column;\n",
       "  align-items: center;\n",
       "  background-color: var(--sklearn-color-background);\n",
       "  padding-right: 1em;\n",
       "  padding-left: 1em;\n",
       "}\n",
       "\n",
       "\n",
       "/* Toggleable style: style used for estimator/Pipeline/ColumnTransformer box that is\n",
       "clickable and can be expanded/collapsed.\n",
       "- Pipeline and ColumnTransformer use this feature and define the default style\n",
       "- Estimators will overwrite some part of the style using the `sk-estimator` class\n",
       "*/\n",
       "\n",
       "/* Pipeline and ColumnTransformer style (default) */\n",
       "\n",
       "#sk-container-id-1 div.sk-toggleable {\n",
       "  /* Default theme specific background. It is overwritten whether we have a\n",
       "  specific estimator or a Pipeline/ColumnTransformer */\n",
       "  background-color: var(--sklearn-color-background);\n",
       "}\n",
       "\n",
       "/* Toggleable label */\n",
       "#sk-container-id-1 label.sk-toggleable__label {\n",
       "  cursor: pointer;\n",
       "  display: block;\n",
       "  width: 100%;\n",
       "  margin-bottom: 0;\n",
       "  padding: 0.5em;\n",
       "  box-sizing: border-box;\n",
       "  text-align: center;\n",
       "}\n",
       "\n",
       "#sk-container-id-1 label.sk-toggleable__label-arrow:before {\n",
       "  /* Arrow on the left of the label */\n",
       "  content: \"▸\";\n",
       "  float: left;\n",
       "  margin-right: 0.25em;\n",
       "  color: var(--sklearn-color-icon);\n",
       "}\n",
       "\n",
       "#sk-container-id-1 label.sk-toggleable__label-arrow:hover:before {\n",
       "  color: var(--sklearn-color-text);\n",
       "}\n",
       "\n",
       "/* Toggleable content - dropdown */\n",
       "\n",
       "#sk-container-id-1 div.sk-toggleable__content {\n",
       "  max-height: 0;\n",
       "  max-width: 0;\n",
       "  overflow: hidden;\n",
       "  text-align: left;\n",
       "  /* unfitted */\n",
       "  background-color: var(--sklearn-color-unfitted-level-0);\n",
       "}\n",
       "\n",
       "#sk-container-id-1 div.sk-toggleable__content.fitted {\n",
       "  /* fitted */\n",
       "  background-color: var(--sklearn-color-fitted-level-0);\n",
       "}\n",
       "\n",
       "#sk-container-id-1 div.sk-toggleable__content pre {\n",
       "  margin: 0.2em;\n",
       "  border-radius: 0.25em;\n",
       "  color: var(--sklearn-color-text);\n",
       "  /* unfitted */\n",
       "  background-color: var(--sklearn-color-unfitted-level-0);\n",
       "}\n",
       "\n",
       "#sk-container-id-1 div.sk-toggleable__content.fitted pre {\n",
       "  /* unfitted */\n",
       "  background-color: var(--sklearn-color-fitted-level-0);\n",
       "}\n",
       "\n",
       "#sk-container-id-1 input.sk-toggleable__control:checked~div.sk-toggleable__content {\n",
       "  /* Expand drop-down */\n",
       "  max-height: 200px;\n",
       "  max-width: 100%;\n",
       "  overflow: auto;\n",
       "}\n",
       "\n",
       "#sk-container-id-1 input.sk-toggleable__control:checked~label.sk-toggleable__label-arrow:before {\n",
       "  content: \"▾\";\n",
       "}\n",
       "\n",
       "/* Pipeline/ColumnTransformer-specific style */\n",
       "\n",
       "#sk-container-id-1 div.sk-label input.sk-toggleable__control:checked~label.sk-toggleable__label {\n",
       "  color: var(--sklearn-color-text);\n",
       "  background-color: var(--sklearn-color-unfitted-level-2);\n",
       "}\n",
       "\n",
       "#sk-container-id-1 div.sk-label.fitted input.sk-toggleable__control:checked~label.sk-toggleable__label {\n",
       "  background-color: var(--sklearn-color-fitted-level-2);\n",
       "}\n",
       "\n",
       "/* Estimator-specific style */\n",
       "\n",
       "/* Colorize estimator box */\n",
       "#sk-container-id-1 div.sk-estimator input.sk-toggleable__control:checked~label.sk-toggleable__label {\n",
       "  /* unfitted */\n",
       "  background-color: var(--sklearn-color-unfitted-level-2);\n",
       "}\n",
       "\n",
       "#sk-container-id-1 div.sk-estimator.fitted input.sk-toggleable__control:checked~label.sk-toggleable__label {\n",
       "  /* fitted */\n",
       "  background-color: var(--sklearn-color-fitted-level-2);\n",
       "}\n",
       "\n",
       "#sk-container-id-1 div.sk-label label.sk-toggleable__label,\n",
       "#sk-container-id-1 div.sk-label label {\n",
       "  /* The background is the default theme color */\n",
       "  color: var(--sklearn-color-text-on-default-background);\n",
       "}\n",
       "\n",
       "/* On hover, darken the color of the background */\n",
       "#sk-container-id-1 div.sk-label:hover label.sk-toggleable__label {\n",
       "  color: var(--sklearn-color-text);\n",
       "  background-color: var(--sklearn-color-unfitted-level-2);\n",
       "}\n",
       "\n",
       "/* Label box, darken color on hover, fitted */\n",
       "#sk-container-id-1 div.sk-label.fitted:hover label.sk-toggleable__label.fitted {\n",
       "  color: var(--sklearn-color-text);\n",
       "  background-color: var(--sklearn-color-fitted-level-2);\n",
       "}\n",
       "\n",
       "/* Estimator label */\n",
       "\n",
       "#sk-container-id-1 div.sk-label label {\n",
       "  font-family: monospace;\n",
       "  font-weight: bold;\n",
       "  display: inline-block;\n",
       "  line-height: 1.2em;\n",
       "}\n",
       "\n",
       "#sk-container-id-1 div.sk-label-container {\n",
       "  text-align: center;\n",
       "}\n",
       "\n",
       "/* Estimator-specific */\n",
       "#sk-container-id-1 div.sk-estimator {\n",
       "  font-family: monospace;\n",
       "  border: 1px dotted var(--sklearn-color-border-box);\n",
       "  border-radius: 0.25em;\n",
       "  box-sizing: border-box;\n",
       "  margin-bottom: 0.5em;\n",
       "  /* unfitted */\n",
       "  background-color: var(--sklearn-color-unfitted-level-0);\n",
       "}\n",
       "\n",
       "#sk-container-id-1 div.sk-estimator.fitted {\n",
       "  /* fitted */\n",
       "  background-color: var(--sklearn-color-fitted-level-0);\n",
       "}\n",
       "\n",
       "/* on hover */\n",
       "#sk-container-id-1 div.sk-estimator:hover {\n",
       "  /* unfitted */\n",
       "  background-color: var(--sklearn-color-unfitted-level-2);\n",
       "}\n",
       "\n",
       "#sk-container-id-1 div.sk-estimator.fitted:hover {\n",
       "  /* fitted */\n",
       "  background-color: var(--sklearn-color-fitted-level-2);\n",
       "}\n",
       "\n",
       "/* Specification for estimator info (e.g. \"i\" and \"?\") */\n",
       "\n",
       "/* Common style for \"i\" and \"?\" */\n",
       "\n",
       ".sk-estimator-doc-link,\n",
       "a:link.sk-estimator-doc-link,\n",
       "a:visited.sk-estimator-doc-link {\n",
       "  float: right;\n",
       "  font-size: smaller;\n",
       "  line-height: 1em;\n",
       "  font-family: monospace;\n",
       "  background-color: var(--sklearn-color-background);\n",
       "  border-radius: 1em;\n",
       "  height: 1em;\n",
       "  width: 1em;\n",
       "  text-decoration: none !important;\n",
       "  margin-left: 1ex;\n",
       "  /* unfitted */\n",
       "  border: var(--sklearn-color-unfitted-level-1) 1pt solid;\n",
       "  color: var(--sklearn-color-unfitted-level-1);\n",
       "}\n",
       "\n",
       ".sk-estimator-doc-link.fitted,\n",
       "a:link.sk-estimator-doc-link.fitted,\n",
       "a:visited.sk-estimator-doc-link.fitted {\n",
       "  /* fitted */\n",
       "  border: var(--sklearn-color-fitted-level-1) 1pt solid;\n",
       "  color: var(--sklearn-color-fitted-level-1);\n",
       "}\n",
       "\n",
       "/* On hover */\n",
       "div.sk-estimator:hover .sk-estimator-doc-link:hover,\n",
       ".sk-estimator-doc-link:hover,\n",
       "div.sk-label-container:hover .sk-estimator-doc-link:hover,\n",
       ".sk-estimator-doc-link:hover {\n",
       "  /* unfitted */\n",
       "  background-color: var(--sklearn-color-unfitted-level-3);\n",
       "  color: var(--sklearn-color-background);\n",
       "  text-decoration: none;\n",
       "}\n",
       "\n",
       "div.sk-estimator.fitted:hover .sk-estimator-doc-link.fitted:hover,\n",
       ".sk-estimator-doc-link.fitted:hover,\n",
       "div.sk-label-container:hover .sk-estimator-doc-link.fitted:hover,\n",
       ".sk-estimator-doc-link.fitted:hover {\n",
       "  /* fitted */\n",
       "  background-color: var(--sklearn-color-fitted-level-3);\n",
       "  color: var(--sklearn-color-background);\n",
       "  text-decoration: none;\n",
       "}\n",
       "\n",
       "/* Span, style for the box shown on hovering the info icon */\n",
       ".sk-estimator-doc-link span {\n",
       "  display: none;\n",
       "  z-index: 9999;\n",
       "  position: relative;\n",
       "  font-weight: normal;\n",
       "  right: .2ex;\n",
       "  padding: .5ex;\n",
       "  margin: .5ex;\n",
       "  width: min-content;\n",
       "  min-width: 20ex;\n",
       "  max-width: 50ex;\n",
       "  color: var(--sklearn-color-text);\n",
       "  box-shadow: 2pt 2pt 4pt #999;\n",
       "  /* unfitted */\n",
       "  background: var(--sklearn-color-unfitted-level-0);\n",
       "  border: .5pt solid var(--sklearn-color-unfitted-level-3);\n",
       "}\n",
       "\n",
       ".sk-estimator-doc-link.fitted span {\n",
       "  /* fitted */\n",
       "  background: var(--sklearn-color-fitted-level-0);\n",
       "  border: var(--sklearn-color-fitted-level-3);\n",
       "}\n",
       "\n",
       ".sk-estimator-doc-link:hover span {\n",
       "  display: block;\n",
       "}\n",
       "\n",
       "/* \"?\"-specific style due to the `<a>` HTML tag */\n",
       "\n",
       "#sk-container-id-1 a.estimator_doc_link {\n",
       "  float: right;\n",
       "  font-size: 1rem;\n",
       "  line-height: 1em;\n",
       "  font-family: monospace;\n",
       "  background-color: var(--sklearn-color-background);\n",
       "  border-radius: 1rem;\n",
       "  height: 1rem;\n",
       "  width: 1rem;\n",
       "  text-decoration: none;\n",
       "  /* unfitted */\n",
       "  color: var(--sklearn-color-unfitted-level-1);\n",
       "  border: var(--sklearn-color-unfitted-level-1) 1pt solid;\n",
       "}\n",
       "\n",
       "#sk-container-id-1 a.estimator_doc_link.fitted {\n",
       "  /* fitted */\n",
       "  border: var(--sklearn-color-fitted-level-1) 1pt solid;\n",
       "  color: var(--sklearn-color-fitted-level-1);\n",
       "}\n",
       "\n",
       "/* On hover */\n",
       "#sk-container-id-1 a.estimator_doc_link:hover {\n",
       "  /* unfitted */\n",
       "  background-color: var(--sklearn-color-unfitted-level-3);\n",
       "  color: var(--sklearn-color-background);\n",
       "  text-decoration: none;\n",
       "}\n",
       "\n",
       "#sk-container-id-1 a.estimator_doc_link.fitted:hover {\n",
       "  /* fitted */\n",
       "  background-color: var(--sklearn-color-fitted-level-3);\n",
       "}\n",
       "</style><div id=\"sk-container-id-1\" class=\"sk-top-container\"><div class=\"sk-text-repr-fallback\"><pre>LogisticRegression(multi_class=&#x27;multinomial&#x27;, penalty=None, solver=&#x27;newton-cg&#x27;)</pre><b>In a Jupyter environment, please rerun this cell to show the HTML representation or trust the notebook. <br />On GitHub, the HTML representation is unable to render, please try loading this page with nbviewer.org.</b></div><div class=\"sk-container\" hidden><div class=\"sk-item\"><div class=\"sk-estimator fitted sk-toggleable\"><input class=\"sk-toggleable__control sk-hidden--visually\" id=\"sk-estimator-id-1\" type=\"checkbox\" checked><label for=\"sk-estimator-id-1\" class=\"sk-toggleable__label fitted sk-toggleable__label-arrow fitted\">&nbsp;&nbsp;LogisticRegression<a class=\"sk-estimator-doc-link fitted\" rel=\"noreferrer\" target=\"_blank\" href=\"https://scikit-learn.org/1.4/modules/generated/sklearn.linear_model.LogisticRegression.html\">?<span>Documentation for LogisticRegression</span></a><span class=\"sk-estimator-doc-link fitted\">i<span>Fitted</span></span></label><div class=\"sk-toggleable__content fitted\"><pre>LogisticRegression(multi_class=&#x27;multinomial&#x27;, penalty=None, solver=&#x27;newton-cg&#x27;)</pre></div> </div></div></div></div>"
      ],
      "text/plain": [
       "LogisticRegression(multi_class='multinomial', penalty=None, solver='newton-cg')"
      ]
     },
     "execution_count": 60,
     "metadata": {},
     "output_type": "execute_result"
    }
   ],
   "source": [
    "model1 = LogisticRegression(multi_class='multinomial',penalty= None,solver='newton-cg')\n",
    "model1.fit(X_train_ab, y_train_ab)"
   ]
  },
  {
   "cell_type": "code",
   "execution_count": 61,
   "metadata": {
    "collapsed": true,
    "jupyter": {
     "outputs_hidden": true
    }
   },
   "outputs": [
    {
     "data": {
      "text/plain": [
       "0.561807841963484"
      ]
     },
     "execution_count": 61,
     "metadata": {},
     "output_type": "execute_result"
    }
   ],
   "source": [
    "model1.score(X_train_ab, y_train_ab)"
   ]
  },
  {
   "cell_type": "code",
   "execution_count": 62,
   "metadata": {
    "collapsed": true,
    "jupyter": {
     "outputs_hidden": true
    }
   },
   "outputs": [
    {
     "name": "stdout",
     "output_type": "stream",
     "text": [
      "{'C': 1.0, 'class_weight': None, 'dual': False, 'fit_intercept': True, 'intercept_scaling': 1, 'l1_ratio': None, 'max_iter': 100, 'multi_class': 'multinomial', 'n_jobs': None, 'penalty': None, 'random_state': None, 'solver': 'newton-cg', 'tol': 0.0001, 'verbose': 0, 'warm_start': False}\n"
     ]
    }
   ],
   "source": [
    "y_pred_ab = model1.predict(X_test_ab)\n",
    "params = model1.get_params()\n",
    "print(params)"
   ]
  },
  {
   "cell_type": "code",
   "execution_count": 63,
   "metadata": {
    "collapsed": true,
    "jupyter": {
     "outputs_hidden": true
    }
   },
   "outputs": [
    {
     "name": "stdout",
     "output_type": "stream",
     "text": [
      "Intercept: \n",
      " [-1.80277476  1.05180366  0.7509711 ]\n",
      "Coefficients: \n",
      " [[-5.95079528  6.3549861   4.0581014   1.85718374 -2.70305322  6.17067119\n",
      "  -1.54874124  0.06150835]\n",
      " [11.73732045 -6.18789729 -5.70439887 -4.1897914   2.81893249 -8.75502702\n",
      "   3.12968292 -0.1225984 ]\n",
      " [-5.78652518 -0.16708881  1.64629747  2.33260765 -0.11587927  2.58435582\n",
      "  -1.58094168  0.06109005]]\n"
     ]
    }
   ],
   "source": [
    "# Intercept And Coefficients:The intercept and coefficients are stored in model1.intercept and model1.coef_ respectively. Here we need to spend a bit of time, because the output of Sci-Kit Learn is different from what we may expect. \n",
    "#Print model parameters\n",
    "print('Intercept: \\n', model1.intercept_)\n",
    "print('Coefficients: \\n', model1.coef_)"
   ]
  },
  {
   "cell_type": "code",
   "execution_count": 64,
   "metadata": {
    "collapsed": true,
    "jupyter": {
     "outputs_hidden": true
    }
   },
   "outputs": [
    {
     "data": {
      "text/html": [
       "<div>\n",
       "<style scoped>\n",
       "    .dataframe tbody tr th:only-of-type {\n",
       "        vertical-align: middle;\n",
       "    }\n",
       "\n",
       "    .dataframe tbody tr th {\n",
       "        vertical-align: top;\n",
       "    }\n",
       "\n",
       "    .dataframe thead th {\n",
       "        text-align: right;\n",
       "    }\n",
       "</style>\n",
       "<table border=\"1\" class=\"dataframe\">\n",
       "  <thead>\n",
       "    <tr style=\"text-align: right;\">\n",
       "      <th></th>\n",
       "      <th>actual</th>\n",
       "      <th>predicted_prob</th>\n",
       "    </tr>\n",
       "  </thead>\n",
       "  <tbody>\n",
       "    <tr>\n",
       "      <th>3342</th>\n",
       "      <td>2</td>\n",
       "      <td>1</td>\n",
       "    </tr>\n",
       "    <tr>\n",
       "      <th>791</th>\n",
       "      <td>0</td>\n",
       "      <td>2</td>\n",
       "    </tr>\n",
       "    <tr>\n",
       "      <th>1420</th>\n",
       "      <td>0</td>\n",
       "      <td>2</td>\n",
       "    </tr>\n",
       "    <tr>\n",
       "      <th>729</th>\n",
       "      <td>0</td>\n",
       "      <td>0</td>\n",
       "    </tr>\n",
       "    <tr>\n",
       "      <th>1186</th>\n",
       "      <td>0</td>\n",
       "      <td>0</td>\n",
       "    </tr>\n",
       "  </tbody>\n",
       "</table>\n",
       "</div>"
      ],
      "text/plain": [
       "      actual  predicted_prob\n",
       "3342       2               1\n",
       "791        0               2\n",
       "1420       0               2\n",
       "729        0               0\n",
       "1186       0               0"
      ]
     },
     "execution_count": 64,
     "metadata": {},
     "output_type": "execute_result"
    }
   ],
   "source": [
    "y_pred_df= pd.DataFrame({'actual': y_test_ab,'predicted_prob': y_pred_ab})  \n",
    "y_pred_df.head()"
   ]
  },
  {
   "cell_type": "code",
   "execution_count": 65,
   "metadata": {
    "collapsed": true,
    "jupyter": {
     "outputs_hidden": true
    }
   },
   "outputs": [
    {
     "name": "stdout",
     "output_type": "stream",
     "text": [
      "Accuracy Score: 0.5514354066985646\n",
      "              precision    recall  f1-score   support\n",
      "\n",
      "           0       0.49      0.33      0.40       270\n",
      "           1       0.66      0.81      0.72       260\n",
      "           2       0.48      0.53      0.50       306\n",
      "\n",
      "    accuracy                           0.55       836\n",
      "   macro avg       0.54      0.56      0.54       836\n",
      "weighted avg       0.54      0.55      0.54       836\n",
      "\n"
     ]
    }
   ],
   "source": [
    "#Accuracy statistics\n",
    "from sklearn import metrics\n",
    "print('Accuracy Score:', metrics.accuracy_score(y_test_ab, y_pred_ab))  \n",
    "#Create classification report\n",
    "class_report=classification_report(y_test_ab, y_pred_ab)\n",
    "print(class_report)"
   ]
  },
  {
   "cell_type": "code",
   "execution_count": 66,
   "metadata": {
    "collapsed": true,
    "jupyter": {
     "outputs_hidden": true
    }
   },
   "outputs": [
    {
     "name": "stdout",
     "output_type": "stream",
     "text": [
      "[[ 90  44 136]\n",
      " [ 15 210  35]\n",
      " [ 79  66 161]]\n"
     ]
    }
   ],
   "source": [
    "confmtrx = confusion_matrix(y_test_ab,y_pred_ab)\n",
    "print(confmtrx)"
   ]
  },
  {
   "cell_type": "code",
   "execution_count": 67,
   "metadata": {
    "collapsed": true,
    "jupyter": {
     "outputs_hidden": true
    }
   },
   "outputs": [
    {
     "name": "stdout",
     "output_type": "stream",
     "text": [
      "        predicted_Female  predicted_Infant  predicted_Male\n",
      "Female                90                44             136\n",
      "Infant                15               210              35\n",
      "Male                  79                66             161\n"
     ]
    }
   ],
   "source": [
    "result = pd.DataFrame(confmtrx, index=['Female','Infant', 'Male'],\n",
    "                      columns=['predicted_Female', 'predicted_Infant', 'predicted_Male'])\n",
    "print(result)"
   ]
  },
  {
   "cell_type": "code",
   "execution_count": null,
   "metadata": {},
   "outputs": [],
   "source": [
    "# The first array contains three intercepts and the second  array contains three sets of regression coefficients.  \n",
    "# In fact, the sklearn based output is different from the statsmodel version \n",
    "# (A discussion of Multinomial Logistic Regression with statsmodels is available below). \n",
    "\n",
    "\n",
    "# In this solution, there is an equation for each class. \n",
    "# These act as independent binary logistic regression models. \n",
    "# The actual output is log(p(y=c)/1 - p(y=c)), which are multinomial logit coefficients, \n",
    "# hence the three equations.  After exponentiating each regressor coefficient, we in fact get odds ratios. \n",
    "# The interpretation of the coefficients is for a single unit change in the predictor variable, \n",
    "# the log of odds will change by a factor indicated by the beta coefficient, given that all other \n",
    "# variables are held constant.  Log of odds is not really meaningful, so exponentiating the output gets a \n",
    "# slightly more user friendly output: \n",
    "\n",
    "#Calculate odds ratio estimates\n",
    "import numpy as np\n",
    "np.exp(model1.coef_)"
   ]
  },
  {
   "cell_type": "code",
   "execution_count": null,
   "metadata": {},
   "outputs": [],
   "source": [
    "# Create DataFrame from confmtrx array  rows for test: Male, Female, Infant designation as index \n",
    "# columns for preds: male, predicted_female, predicted_infant as column\n",
    "# confmtrx = confusion_matrix(y_test_ab,y_pred_ab)\n",
    "# print(confmtrx)\n",
    "pd.DataFrame(confmtrx, index=['Female','Infant', 'Male'],columns=['predicted_Female', 'predicted_Infant', 'predicted_Male'])\n"
   ]
  },
  {
   "cell_type": "code",
   "execution_count": null,
   "metadata": {},
   "outputs": [],
   "source": [
    "# The accuracy of this model is poor with only 55% of predictions being correct. \n",
    "# The precision and recall of female and male abalone is very concerning as well.     "
   ]
  },
  {
   "cell_type": "code",
   "execution_count": null,
   "metadata": {},
   "outputs": [],
   "source": [
    "!pip install flask\n",
    "!pip install streamlit"
   ]
  },
  {
   "cell_type": "code",
   "execution_count": 54,
   "metadata": {},
   "outputs": [],
   "source": [
    "import flask\n",
    "import streamlit"
   ]
  },
  {
   "cell_type": "code",
   "execution_count": 53,
   "metadata": {},
   "outputs": [
    {
     "name": "stdout",
     "output_type": "stream",
     "text": [
      "Defaulting to user installation because normal site-packages is not writeable\n",
      "Collecting streamlit\n",
      "  Obtaining dependency information for streamlit from https://files.pythonhosted.org/packages/b7/f9/9ad1e6e33e4ae149aead1ee8062e536d060b50d650df710899805562910a/streamlit-1.33.0-py2.py3-none-any.whl.metadata\n",
      "  Downloading streamlit-1.33.0-py2.py3-none-any.whl.metadata (8.5 kB)\n",
      "Requirement already satisfied: altair<6,>=4.0 in c:\\users\\excel\\appdata\\roaming\\python\\python311\\site-packages (from streamlit) (5.1.2)\n",
      "Requirement already satisfied: blinker<2,>=1.0.0 in c:\\users\\excel\\appdata\\roaming\\python\\python311\\site-packages (from streamlit) (1.6.2)\n",
      "Requirement already satisfied: cachetools<6,>=4.0 in c:\\users\\excel\\appdata\\roaming\\python\\python311\\site-packages (from streamlit) (5.3.1)\n",
      "Requirement already satisfied: click<9,>=7.0 in c:\\programdata\\anaconda3\\new folder\\lib\\site-packages (from streamlit) (8.0.4)\n",
      "Requirement already satisfied: numpy<2,>=1.19.3 in c:\\programdata\\anaconda3\\new folder\\lib\\site-packages (from streamlit) (1.24.3)\n",
      "Requirement already satisfied: packaging<25,>=16.8 in c:\\programdata\\anaconda3\\new folder\\lib\\site-packages (from streamlit) (23.1)\n",
      "Requirement already satisfied: pandas<3,>=1.3.0 in c:\\programdata\\anaconda3\\new folder\\lib\\site-packages (from streamlit) (2.0.3)\n",
      "Requirement already satisfied: pillow<11,>=7.1.0 in c:\\programdata\\anaconda3\\new folder\\lib\\site-packages (from streamlit) (9.4.0)\n",
      "Requirement already satisfied: protobuf<5,>=3.20 in c:\\users\\excel\\appdata\\roaming\\python\\python311\\site-packages (from streamlit) (4.24.4)\n",
      "Requirement already satisfied: pyarrow>=7.0 in c:\\programdata\\anaconda3\\new folder\\lib\\site-packages (from streamlit) (11.0.0)\n",
      "Requirement already satisfied: requests<3,>=2.27 in c:\\programdata\\anaconda3\\new folder\\lib\\site-packages (from streamlit) (2.31.0)\n",
      "Requirement already satisfied: rich<14,>=10.14.0 in c:\\users\\excel\\appdata\\roaming\\python\\python311\\site-packages (from streamlit) (13.6.0)\n",
      "Requirement already satisfied: tenacity<9,>=8.1.0 in c:\\programdata\\anaconda3\\new folder\\lib\\site-packages (from streamlit) (8.2.2)\n",
      "Requirement already satisfied: toml<2,>=0.10.1 in c:\\programdata\\anaconda3\\new folder\\lib\\site-packages (from streamlit) (0.10.2)\n",
      "Requirement already satisfied: typing-extensions<5,>=4.3.0 in c:\\programdata\\anaconda3\\new folder\\lib\\site-packages (from streamlit) (4.7.1)\n",
      "Requirement already satisfied: gitpython!=3.1.19,<4,>=3.0.7 in c:\\users\\excel\\appdata\\roaming\\python\\python311\\site-packages (from streamlit) (3.1.37)\n",
      "Requirement already satisfied: pydeck<1,>=0.8.0b4 in c:\\users\\excel\\appdata\\roaming\\python\\python311\\site-packages (from streamlit) (0.8.1b0)\n",
      "Requirement already satisfied: tornado<7,>=6.0.3 in c:\\programdata\\anaconda3\\new folder\\lib\\site-packages (from streamlit) (6.3.2)\n",
      "Requirement already satisfied: watchdog>=2.1.5 in c:\\programdata\\anaconda3\\new folder\\lib\\site-packages (from streamlit) (2.1.6)\n",
      "Requirement already satisfied: jinja2 in c:\\programdata\\anaconda3\\new folder\\lib\\site-packages (from altair<6,>=4.0->streamlit) (3.1.2)\n",
      "Requirement already satisfied: jsonschema>=3.0 in c:\\programdata\\anaconda3\\new folder\\lib\\site-packages (from altair<6,>=4.0->streamlit) (4.17.3)\n",
      "Requirement already satisfied: toolz in c:\\programdata\\anaconda3\\new folder\\lib\\site-packages (from altair<6,>=4.0->streamlit) (0.12.0)\n",
      "Requirement already satisfied: colorama in c:\\programdata\\anaconda3\\new folder\\lib\\site-packages (from click<9,>=7.0->streamlit) (0.4.6)\n",
      "Requirement already satisfied: gitdb<5,>=4.0.1 in c:\\users\\excel\\appdata\\roaming\\python\\python311\\site-packages (from gitpython!=3.1.19,<4,>=3.0.7->streamlit) (4.0.10)\n",
      "Requirement already satisfied: python-dateutil>=2.8.2 in c:\\programdata\\anaconda3\\new folder\\lib\\site-packages (from pandas<3,>=1.3.0->streamlit) (2.8.2)\n",
      "Requirement already satisfied: pytz>=2020.1 in c:\\programdata\\anaconda3\\new folder\\lib\\site-packages (from pandas<3,>=1.3.0->streamlit) (2023.3.post1)\n",
      "Requirement already satisfied: tzdata>=2022.1 in c:\\users\\excel\\appdata\\roaming\\python\\python311\\site-packages (from pandas<3,>=1.3.0->streamlit) (2023.3)\n",
      "Requirement already satisfied: charset-normalizer<4,>=2 in c:\\programdata\\anaconda3\\new folder\\lib\\site-packages (from requests<3,>=2.27->streamlit) (2.0.4)\n",
      "Requirement already satisfied: idna<4,>=2.5 in c:\\programdata\\anaconda3\\new folder\\lib\\site-packages (from requests<3,>=2.27->streamlit) (3.4)\n",
      "Requirement already satisfied: urllib3<3,>=1.21.1 in c:\\programdata\\anaconda3\\new folder\\lib\\site-packages (from requests<3,>=2.27->streamlit) (1.26.16)\n",
      "Requirement already satisfied: certifi>=2017.4.17 in c:\\programdata\\anaconda3\\new folder\\lib\\site-packages (from requests<3,>=2.27->streamlit) (2023.11.17)\n",
      "Requirement already satisfied: markdown-it-py>=2.2.0 in c:\\programdata\\anaconda3\\new folder\\lib\\site-packages (from rich<14,>=10.14.0->streamlit) (2.2.0)\n",
      "Requirement already satisfied: pygments<3.0.0,>=2.13.0 in c:\\programdata\\anaconda3\\new folder\\lib\\site-packages (from rich<14,>=10.14.0->streamlit) (2.15.1)\n",
      "Requirement already satisfied: smmap<6,>=3.0.1 in c:\\users\\excel\\appdata\\roaming\\python\\python311\\site-packages (from gitdb<5,>=4.0.1->gitpython!=3.1.19,<4,>=3.0.7->streamlit) (5.0.1)\n",
      "Requirement already satisfied: MarkupSafe>=2.0 in c:\\programdata\\anaconda3\\new folder\\lib\\site-packages (from jinja2->altair<6,>=4.0->streamlit) (2.1.1)\n",
      "Requirement already satisfied: attrs>=17.4.0 in c:\\programdata\\anaconda3\\new folder\\lib\\site-packages (from jsonschema>=3.0->altair<6,>=4.0->streamlit) (22.1.0)\n",
      "Requirement already satisfied: pyrsistent!=0.17.0,!=0.17.1,!=0.17.2,>=0.14.0 in c:\\programdata\\anaconda3\\new folder\\lib\\site-packages (from jsonschema>=3.0->altair<6,>=4.0->streamlit) (0.18.0)\n",
      "Requirement already satisfied: mdurl~=0.1 in c:\\programdata\\anaconda3\\new folder\\lib\\site-packages (from markdown-it-py>=2.2.0->rich<14,>=10.14.0->streamlit) (0.1.0)\n",
      "Requirement already satisfied: six>=1.5 in c:\\programdata\\anaconda3\\new folder\\lib\\site-packages (from python-dateutil>=2.8.2->pandas<3,>=1.3.0->streamlit) (1.16.0)\n",
      "Downloading streamlit-1.33.0-py2.py3-none-any.whl (8.1 MB)\n",
      "   ---------------------------------------- 0.0/8.1 MB ? eta -:--:--\n",
      "   ---------------------------------------- 0.0/8.1 MB ? eta -:--:--\n",
      "   ---------------------------------------- 0.0/8.1 MB ? eta -:--:--\n",
      "   ---------------------------------------- 0.0/8.1 MB ? eta -:--:--\n",
      "   ---------------------------------------- 0.0/8.1 MB 325.1 kB/s eta 0:00:25\n",
      "   ---------------------------------------- 0.1/8.1 MB 409.6 kB/s eta 0:00:20\n",
      "    --------------------------------------- 0.2/8.1 MB 817.0 kB/s eta 0:00:10\n",
      "   - -------------------------------------- 0.3/8.1 MB 1.4 MB/s eta 0:00:06\n",
      "   --- ------------------------------------ 0.7/8.1 MB 2.5 MB/s eta 0:00:04\n",
      "   ------ --------------------------------- 1.2/8.1 MB 3.8 MB/s eta 0:00:02\n",
      "   ------- -------------------------------- 1.6/8.1 MB 4.6 MB/s eta 0:00:02\n",
      "   ------------ --------------------------- 2.5/8.1 MB 6.0 MB/s eta 0:00:01\n",
      "   ---------------------- ----------------- 4.5/8.1 MB 9.6 MB/s eta 0:00:01\n",
      "   --------------------------- ------------ 5.6/8.1 MB 11.1 MB/s eta 0:00:01\n",
      "   ---------------------------- ----------- 5.7/8.1 MB 10.1 MB/s eta 0:00:01\n",
      "   ----------------------------------- ---- 7.3/8.1 MB 12.2 MB/s eta 0:00:01\n",
      "   ----------------------------------- ---- 7.3/8.1 MB 11.4 MB/s eta 0:00:01\n",
      "   ---------------------------------------  8.1/8.1 MB 12.1 MB/s eta 0:00:01\n",
      "   ---------------------------------------  8.1/8.1 MB 12.1 MB/s eta 0:00:01\n",
      "   ---------------------------------------- 8.1/8.1 MB 10.6 MB/s eta 0:00:00\n",
      "Installing collected packages: streamlit\n",
      "Successfully installed streamlit-1.33.0\n"
     ]
    },
    {
     "name": "stderr",
     "output_type": "stream",
     "text": [
      "  WARNING: The script streamlit.exe is installed in 'C:\\Users\\excel\\AppData\\Roaming\\Python\\Python311\\Scripts' which is not on PATH.\n",
      "  Consider adding this directory to PATH or, if you prefer to suppress this warning, use --no-warn-script-location.\n"
     ]
    }
   ],
   "source": [
    "!pip install streamlit"
   ]
  },
  {
   "cell_type": "code",
   "execution_count": null,
   "metadata": {},
   "outputs": [],
   "source": []
  }
 ],
 "metadata": {
  "colab": {
   "provenance": []
  },
  "kernelspec": {
   "display_name": "Python 3 (ipykernel)",
   "language": "python",
   "name": "python3"
  },
  "language_info": {
   "codemirror_mode": {
    "name": "ipython",
    "version": 3
   },
   "file_extension": ".py",
   "mimetype": "text/x-python",
   "name": "python",
   "nbconvert_exporter": "python",
   "pygments_lexer": "ipython3",
   "version": "3.11.7"
  }
 },
 "nbformat": 4,
 "nbformat_minor": 4
}
